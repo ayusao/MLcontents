{
 "cells": [
  {
   "cell_type": "markdown",
   "metadata": {
    "deletable": false,
    "editable": false,
    "id": "w6DuSjSGEFTM",
    "nbgrader": {
     "cell_type": "markdown",
     "checksum": "34f1f61d166822c0e7d17f45c0eedc82",
     "grade": false,
     "grade_id": "cell-ec5095db05438617",
     "locked": true,
     "schema_version": 3,
     "solution": false,
     "task": false
    },
    "slideshow": {
     "slide_type": ""
    },
    "tags": []
   },
   "source": [
    "# Book Recommendation System: Multi-Armed Bandit Algorithms\n",
    "## Objective\n",
    "The goal of this assignment is to implement and compare two different strategies for recommending books to users: the Epsilon-Greedy algorithm and the Upper Confidence Bound (UCB) algorithm. You will simulate a recommendation system for a bookstore that offers 6 types of books. Each book type has a different probability of generating user interest.\n",
    "\n",
    "**Parameters**\n",
    "\n",
    "*  Number of Book Types (K)\n",
    "\n",
    "*   Epsilon (epsilon): which controls the probability of exploration in the Epsilon-Greedy algorithm.\n",
    "\n",
    "*  Number of User Recommendations (num_recommendations): 1500, the total number of times a book will be recommended to users.\n",
    "\n",
    "\n",
    "**Algorithms**\n",
    "\n",
    "**Epsilon-Greedy Algorithm**\n",
    "\n",
    "The Epsilon-Greedy algorithm balances exploration and exploitation. With a probability of epsilon, the algorithm explores by recommending a random book. With a probability of 1 - epsilon, it exploits by recommending the book with the highest estimated interest probability.\n",
    "\n",
    "* Explore: Randomly select a book type.\n",
    "* Exploit: Select the book type with the highest estimated probability of user interest.\n",
    "The algorithm updates its estimates of book interests based on user feedback, where feedback is simulated as a binary outcome based on the true interest probabilities.\n",
    "\n",
    "**Upper Confidence Bound (UCB) Algorithm**\n",
    "\n",
    "The UCB algorithm recommends books based on both the estimated interest probability and the uncertainty of that estimate. It uses upper confidence bounds to balance exploration of less-recommended books and exploitation of books with higher estimated interests.\n",
    "\n",
    "Initial Recommendations: Each book type is recommended at least once.\n",
    "UCB Calculation: The algorithm calculates an upper confidence bound for each book type and selects the one with the highest UCB value.\n",
    "\n",
    "\n"
   ]
  },
  {
   "cell_type": "code",
   "execution_count": 1,
   "metadata": {
    "editable": true,
    "slideshow": {
     "slide_type": ""
    },
    "tags": []
   },
   "outputs": [],
   "source": [
    "import numpy as np\n",
    "\n",
    "# Parameters\n",
    "K = 6  # Number of book types\n",
    "epsilon = 0.1  # Epsilon for Epsilon-Greedy\n",
    "num_recommendations = 1500  # Number of user recommendations\n",
    "\n",
    "# True interest probabilities for each book type\n",
    "true_interest_probabilities = np.array([0.30, 0.25, 0.20, 0.15, 0.10, 0.05])"
   ]
  },
  {
   "cell_type": "code",
   "execution_count": 6,
   "metadata": {
    "deletable": false,
    "editable": true,
    "nbgrader": {
     "cell_type": "code",
     "checksum": "c17ad34a3034bd490920aa97765d4b86",
     "grade": false,
     "grade_id": "cell-fd1e7056abb778a2",
     "locked": false,
     "schema_version": 3,
     "solution": true,
     "task": false
    },
    "slideshow": {
     "slide_type": ""
    },
    "tags": []
   },
   "outputs": [],
   "source": [
    "### Ex-1-Task-1\n",
    "\n",
    "book = None\n",
    "intrest = None\n",
    "num_recommendations_made = None\n",
    "\n",
    "# Epsilon-Greedy Method\n",
    "def epsilon_greedy(epsilon, num_recommendations):\n",
    "    estimated_interests = np.zeros(K)  # Estimated probabilities of interest\n",
    "    num_recommendations_made = np.zeros(K)  # Number of times each book type was recommended\n",
    "    interests = np.zeros(num_recommendations)\n",
    "\n",
    "    for recommendation in range(num_recommendations):\n",
    "      ### BEGIN SOLUTION \n",
    "      # YOUR CODE HERE\n",
    "\n",
    "      if np.random.rand() < epsilon:  # Explore: Choose a random book\n",
    "                  selected_book = np.random.randint(0, K)\n",
    "      else:  # Exploit: Choose the book with the highest estimated interest\n",
    "          selected_book = np.argmax(estimated_interests)\n",
    "      \n",
    "      # Simulate user feedback (binary outcome)\n",
    "      interest = np.random.rand() < true_interest_probabilities[selected_book]\n",
    "      interests[recommendation] = interest\n",
    "      # Update the estimate for the selected book\n",
    "      num_recommendations_made[selected_book] += 1\n",
    "      estimated_interests[selected_book] += (interest - estimated_interests[selected_book]) / num_recommendations_made[selected_book]\n",
    "\n",
    "      # raise NotImplementedError() \n",
    "      ### END SOLUTION\n",
    "        \n",
    "    total_interests = np.sum(interests)  # Total number of successful recommendations\n",
    "    return interests, total_interests\n",
    "\n",
    "\n"
   ]
  },
  {
   "cell_type": "code",
   "execution_count": 4,
   "metadata": {
    "deletable": false,
    "editable": false,
    "nbgrader": {
     "cell_type": "code",
     "checksum": "3c5ddf2ee2bf0380b9d82dc315dccd20",
     "grade": true,
     "grade_id": "cell-50a917ce7e053415",
     "locked": true,
     "points": 5,
     "schema_version": 3,
     "solution": false,
     "task": false
    }
   },
   "outputs": [],
   "source": [
    "# INTENTIONALLY LEFT BLANK\n"
   ]
  },
  {
   "cell_type": "code",
   "execution_count": 7,
   "metadata": {
    "deletable": false,
    "editable": true,
    "nbgrader": {
     "cell_type": "code",
     "checksum": "4fb350f86dea54c82354a6de4d69372b",
     "grade": false,
     "grade_id": "cell-50e209bf98ed32f9",
     "locked": false,
     "schema_version": 3,
     "solution": true,
     "task": false
    },
    "slideshow": {
     "slide_type": ""
    },
    "tags": []
   },
   "outputs": [
    {
     "name": "stdout",
     "output_type": "stream",
     "text": [
      "Total Interests for Epsilon-Greedy: 421.0\n",
      "Total Interests for UCB: 319.0\n"
     ]
    },
    {
     "name": "stderr",
     "output_type": "stream",
     "text": [
      "/tmp/ipykernel_233371/3712758407.py:13: RuntimeWarning: invalid value encountered in divide\n",
      "  ucb_values = estimated_interests + np.sqrt(2 * np.log(recommendation + 1) / num_recommendations_made)\n",
      "/tmp/ipykernel_233371/3712758407.py:13: RuntimeWarning: divide by zero encountered in divide\n",
      "  ucb_values = estimated_interests + np.sqrt(2 * np.log(recommendation + 1) / num_recommendations_made)\n"
     ]
    }
   ],
   "source": [
    "### Ex-1-Task-2\n",
    "\n",
    "# UCB Method\n",
    "def ucb(num_recommendations):\n",
    "    estimated_interests = np.zeros(K)  # Estimated probabilities of interest\n",
    "    num_recommendations_made = np.zeros(K)  # Number of times each book type was recommended\n",
    "    interests = np.zeros(num_recommendations)\n",
    "\n",
    "    for recommendation in range(num_recommendations):\n",
    "      ### BEGIN SOLUTION \n",
    "      # YOUR CODE HERE\n",
    "      # Calculate UCB for each book\n",
    "      ucb_values = estimated_interests + np.sqrt(2 * np.log(recommendation + 1) / num_recommendations_made)\n",
    "      selected_book = np.argmax(ucb_values)\n",
    "      \n",
    "      # Simulate user feedback (binary outcome)\n",
    "      interest = np.random.rand() < true_interest_probabilities[selected_book]\n",
    "      interests[recommendation] = interest\n",
    "      # Update the estimate for the selected book\n",
    "      num_recommendations_made[selected_book] += 1\n",
    "      estimated_interests[selected_book] += (interest - estimated_interests[selected_book]) / num_recommendations_made[selected_book]\n",
    "       \n",
    "      # raise NotImplementedError() \n",
    "      ### END SOLUTION\n",
    "\n",
    "    total_interests = np.sum(interests)  # Total number of successful recommendations\n",
    "    return interests, total_interests\n",
    "\n",
    "# Run simulations\n",
    "np.random.seed(0)  # For reproducibility\n",
    "epsilon_greedy_interests, epsilon_greedy_total_interests = epsilon_greedy(epsilon, num_recommendations)\n",
    "ucb_interests, ucb_total_interests = ucb(num_recommendations)\n",
    "\n",
    "# Print Total Interests\n",
    "print(f\"Total Interests for Epsilon-Greedy: {epsilon_greedy_total_interests}\")\n",
    "print(f\"Total Interests for UCB: {ucb_total_interests}\")"
   ]
  },
  {
   "cell_type": "code",
   "execution_count": null,
   "metadata": {
    "deletable": false,
    "editable": false,
    "nbgrader": {
     "cell_type": "code",
     "checksum": "2ac57e0d694418cab86fc9965f06a0de",
     "grade": true,
     "grade_id": "cell-af3e7adb27b49a73",
     "locked": true,
     "points": 5,
     "schema_version": 3,
     "solution": false,
     "task": false
    },
    "slideshow": {
     "slide_type": ""
    },
    "tags": []
   },
   "outputs": [],
   "source": [
    "# INTENTIONALLY LEFT BLANK"
   ]
  }
 ],
 "metadata": {
  "colab": {
   "provenance": []
  },
  "kernelspec": {
   "display_name": "Python 3 (ipykernel)",
   "language": "python",
   "name": "python3"
  },
  "language_info": {
   "codemirror_mode": {
    "name": "ipython",
    "version": 3
   },
   "file_extension": ".py",
   "mimetype": "text/x-python",
   "name": "python",
   "nbconvert_exporter": "python",
   "pygments_lexer": "ipython3",
   "version": "3.12.3"
  }
 },
 "nbformat": 4,
 "nbformat_minor": 4
}
