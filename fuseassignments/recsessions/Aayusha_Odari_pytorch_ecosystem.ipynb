{
 "cells": [
  {
   "cell_type": "markdown",
   "metadata": {
    "id": "1BgXwuFemqNN"
   },
   "source": [
    "## Pytorch Ignite"
   ]
  },
  {
   "cell_type": "code",
   "execution_count": 1,
   "metadata": {
    "colab": {
     "base_uri": "https://localhost:8080/"
    },
    "id": "qqvD0BPDmtum",
    "outputId": "c02260ae-1f76-455a-c25b-34ce9e52aa93"
   },
   "outputs": [
    {
     "name": "stdout",
     "output_type": "stream",
     "text": [
      "Requirement already satisfied: pytorch-ignite in /home/ayusao/virtual/lib/python3.12/site-packages (0.5.0.post2)\n",
      "Requirement already satisfied: torch<3,>=1.3 in /home/ayusao/virtual/lib/python3.12/site-packages (from pytorch-ignite) (2.3.1)\n",
      "Requirement already satisfied: packaging in /home/ayusao/virtual/lib/python3.12/site-packages (from pytorch-ignite) (24.1)\n",
      "Requirement already satisfied: filelock in /home/ayusao/virtual/lib/python3.12/site-packages (from torch<3,>=1.3->pytorch-ignite) (3.14.0)\n",
      "Requirement already satisfied: typing-extensions>=4.8.0 in /home/ayusao/virtual/lib/python3.12/site-packages (from torch<3,>=1.3->pytorch-ignite) (4.12.2)\n",
      "Requirement already satisfied: sympy in /home/ayusao/virtual/lib/python3.12/site-packages (from torch<3,>=1.3->pytorch-ignite) (1.12.1)\n",
      "Requirement already satisfied: networkx in /home/ayusao/virtual/lib/python3.12/site-packages (from torch<3,>=1.3->pytorch-ignite) (3.3)\n",
      "Requirement already satisfied: jinja2 in /home/ayusao/virtual/lib/python3.12/site-packages (from torch<3,>=1.3->pytorch-ignite) (3.1.4)\n",
      "Requirement already satisfied: fsspec in /home/ayusao/virtual/lib/python3.12/site-packages (from torch<3,>=1.3->pytorch-ignite) (2024.6.0)\n",
      "Requirement already satisfied: nvidia-cuda-nvrtc-cu12==12.1.105 in /home/ayusao/virtual/lib/python3.12/site-packages (from torch<3,>=1.3->pytorch-ignite) (12.1.105)\n",
      "Requirement already satisfied: nvidia-cuda-runtime-cu12==12.1.105 in /home/ayusao/virtual/lib/python3.12/site-packages (from torch<3,>=1.3->pytorch-ignite) (12.1.105)\n",
      "Requirement already satisfied: nvidia-cuda-cupti-cu12==12.1.105 in /home/ayusao/virtual/lib/python3.12/site-packages (from torch<3,>=1.3->pytorch-ignite) (12.1.105)\n",
      "Requirement already satisfied: nvidia-cudnn-cu12==8.9.2.26 in /home/ayusao/virtual/lib/python3.12/site-packages (from torch<3,>=1.3->pytorch-ignite) (8.9.2.26)\n",
      "Requirement already satisfied: nvidia-cublas-cu12==12.1.3.1 in /home/ayusao/virtual/lib/python3.12/site-packages (from torch<3,>=1.3->pytorch-ignite) (12.1.3.1)\n",
      "Requirement already satisfied: nvidia-cufft-cu12==11.0.2.54 in /home/ayusao/virtual/lib/python3.12/site-packages (from torch<3,>=1.3->pytorch-ignite) (11.0.2.54)\n",
      "Requirement already satisfied: nvidia-curand-cu12==10.3.2.106 in /home/ayusao/virtual/lib/python3.12/site-packages (from torch<3,>=1.3->pytorch-ignite) (10.3.2.106)\n",
      "Requirement already satisfied: nvidia-cusolver-cu12==11.4.5.107 in /home/ayusao/virtual/lib/python3.12/site-packages (from torch<3,>=1.3->pytorch-ignite) (11.4.5.107)\n",
      "Requirement already satisfied: nvidia-cusparse-cu12==12.1.0.106 in /home/ayusao/virtual/lib/python3.12/site-packages (from torch<3,>=1.3->pytorch-ignite) (12.1.0.106)\n",
      "Requirement already satisfied: nvidia-nccl-cu12==2.20.5 in /home/ayusao/virtual/lib/python3.12/site-packages (from torch<3,>=1.3->pytorch-ignite) (2.20.5)\n",
      "Requirement already satisfied: nvidia-nvtx-cu12==12.1.105 in /home/ayusao/virtual/lib/python3.12/site-packages (from torch<3,>=1.3->pytorch-ignite) (12.1.105)\n",
      "Requirement already satisfied: nvidia-nvjitlink-cu12 in /home/ayusao/virtual/lib/python3.12/site-packages (from nvidia-cusolver-cu12==11.4.5.107->torch<3,>=1.3->pytorch-ignite) (12.5.40)\n",
      "Requirement already satisfied: MarkupSafe>=2.0 in /home/ayusao/virtual/lib/python3.12/site-packages (from jinja2->torch<3,>=1.3->pytorch-ignite) (2.1.5)\n",
      "Requirement already satisfied: mpmath<1.4.0,>=1.1.0 in /home/ayusao/virtual/lib/python3.12/site-packages (from sympy->torch<3,>=1.3->pytorch-ignite) (1.3.0)\n"
     ]
    }
   ],
   "source": [
    "#installing pytorch ignite\n",
    "!pip install pytorch-ignite"
   ]
  },
  {
   "cell_type": "code",
   "execution_count": 3,
   "metadata": {
    "id": "cphpMJUDmyy1"
   },
   "outputs": [],
   "source": [
    "import torch\n",
    "from torch import nn\n",
    "from torchvision import datasets\n",
    "from torchvision import datasets, transforms\n",
    "import ignite\n",
    "import matplotlib.pyplot as plt\n",
    "from torch.utils.data import DataLoader\n",
    "\n",
    "from ignite.engine import Engine, Events, create_supervised_trainer, create_supervised_evaluator\n",
    "from ignite.metrics import Accuracy, Loss\n",
    "from ignite.handlers import ModelCheckpoint\n",
    "from ignite.contrib.handlers import TensorboardLogger, global_step_from_engine"
   ]
  },
  {
   "cell_type": "markdown",
   "metadata": {
    "id": "rgzWg3VYnTC7"
   },
   "source": [
    "## Defining the MLP model"
   ]
  },
  {
   "cell_type": "code",
   "execution_count": 4,
   "metadata": {
    "id": "5uUyKjGAm9j0"
   },
   "outputs": [],
   "source": [
    "class Net(nn.Module):\n",
    "\n",
    "    def __init__(self):\n",
    "        super(Net, self).__init__()\n",
    "\n",
    "        # Changed the output layer to output 10 classes instead of 1000 classes\n",
    "        self.flatten = nn.Flatten()\n",
    "        self.linear =  nn.Sequential(\n",
    "            nn.Linear(28*28,128),\n",
    "            nn.ReLU(),\n",
    "            nn.Linear(128,512),\n",
    "            nn.ReLU(),\n",
    "            nn.Linear(512,512),\n",
    "            nn.Dropout(0.1),\n",
    "            nn.ReLU(),\n",
    "            nn.Linear(512,10)\n",
    "        )\n",
    "\n",
    "    def forward(self, x):\n",
    "        logits = self.flatten(x)\n",
    "        return self.linear(logits)"
   ]
  },
  {
   "cell_type": "markdown",
   "metadata": {
    "id": "Tw-RssYGndJV"
   },
   "source": [
    "## Loading MNIST Fashion Dataset"
   ]
  },
  {
   "cell_type": "code",
   "execution_count": 5,
   "metadata": {
    "colab": {
     "base_uri": "https://localhost:8080/"
    },
    "id": "8XmKZojLnOpy",
    "outputId": "c1d66fdc-c898-4f9b-9a17-578305e6ef84"
   },
   "outputs": [
    {
     "name": "stdout",
     "output_type": "stream",
     "text": [
      "Downloading http://fashion-mnist.s3-website.eu-central-1.amazonaws.com/train-images-idx3-ubyte.gz\n",
      "Downloading http://fashion-mnist.s3-website.eu-central-1.amazonaws.com/train-images-idx3-ubyte.gz to data/FashionMNIST/raw/train-images-idx3-ubyte.gz\n"
     ]
    },
    {
     "name": "stderr",
     "output_type": "stream",
     "text": [
      "100%|██████████| 26421880/26421880 [00:02<00:00, 10478754.17it/s]\n"
     ]
    },
    {
     "name": "stdout",
     "output_type": "stream",
     "text": [
      "Extracting data/FashionMNIST/raw/train-images-idx3-ubyte.gz to data/FashionMNIST/raw\n",
      "\n",
      "Downloading http://fashion-mnist.s3-website.eu-central-1.amazonaws.com/train-labels-idx1-ubyte.gz\n",
      "Downloading http://fashion-mnist.s3-website.eu-central-1.amazonaws.com/train-labels-idx1-ubyte.gz to data/FashionMNIST/raw/train-labels-idx1-ubyte.gz\n"
     ]
    },
    {
     "name": "stderr",
     "output_type": "stream",
     "text": [
      "100%|██████████| 29515/29515 [00:00<00:00, 208776.89it/s]\n"
     ]
    },
    {
     "name": "stdout",
     "output_type": "stream",
     "text": [
      "Extracting data/FashionMNIST/raw/train-labels-idx1-ubyte.gz to data/FashionMNIST/raw\n",
      "\n",
      "Downloading http://fashion-mnist.s3-website.eu-central-1.amazonaws.com/t10k-images-idx3-ubyte.gz\n",
      "Downloading http://fashion-mnist.s3-website.eu-central-1.amazonaws.com/t10k-images-idx3-ubyte.gz to data/FashionMNIST/raw/t10k-images-idx3-ubyte.gz\n"
     ]
    },
    {
     "name": "stderr",
     "output_type": "stream",
     "text": [
      "100%|██████████| 4422102/4422102 [00:01<00:00, 3902812.47it/s]\n"
     ]
    },
    {
     "name": "stdout",
     "output_type": "stream",
     "text": [
      "Extracting data/FashionMNIST/raw/t10k-images-idx3-ubyte.gz to data/FashionMNIST/raw\n",
      "\n",
      "Downloading http://fashion-mnist.s3-website.eu-central-1.amazonaws.com/t10k-labels-idx1-ubyte.gz\n",
      "Downloading http://fashion-mnist.s3-website.eu-central-1.amazonaws.com/t10k-labels-idx1-ubyte.gz to data/FashionMNIST/raw/t10k-labels-idx1-ubyte.gz\n"
     ]
    },
    {
     "name": "stderr",
     "output_type": "stream",
     "text": [
      "100%|██████████| 5148/5148 [00:00<00:00, 21294158.77it/s]"
     ]
    },
    {
     "name": "stdout",
     "output_type": "stream",
     "text": [
      "Extracting data/FashionMNIST/raw/t10k-labels-idx1-ubyte.gz to data/FashionMNIST/raw\n",
      "\n"
     ]
    },
    {
     "name": "stderr",
     "output_type": "stream",
     "text": [
      "\n"
     ]
    }
   ],
   "source": [
    "# Data loading and transformation\n",
    "transform = transforms.Compose([\n",
    "    transforms.ToTensor(),\n",
    "    transforms.Normalize((0.5,), (0.5,))\n",
    "])\n",
    "\n",
    "train_dataset = datasets.FashionMNIST(root='data', train=True, download=True, transform=transform)\n",
    "test_dataset = datasets.FashionMNIST(root='data', train=False, download=True, transform=transform)"
   ]
  },
  {
   "cell_type": "code",
   "execution_count": 6,
   "metadata": {
    "colab": {
     "base_uri": "https://localhost:8080/",
     "height": 872
    },
    "id": "Bf65_MFNnw2n",
    "outputId": "9855c6b0-b7d9-4464-ba6f-ac49c2176a7c"
   },
   "outputs": [
    {
     "data": {
      "image/png": "[encoded data removed]",
      "text/plain": [
       "<Figure size 1000x1000 with 9 Axes>"
      ]
     },
     "metadata": {},
     "output_type": "display_data"
    }
   ],
   "source": [
    "labels_map = {\n",
    "    0: \"T-Shirt\",\n",
    "    1: \"Trouser\",\n",
    "    2: \"Pullover\",\n",
    "    3: \"Dress\",\n",
    "    4: \"Coat\",\n",
    "    5: \"Sandal\",\n",
    "    6: \"Shirt\",\n",
    "    7: \"Sneaker\",\n",
    "    8: \"Bag\",\n",
    "    9: \"Ankle Boot\",\n",
    "}\n",
    "\n",
    "import matplotlib.pyplot as plt\n",
    "\n",
    "# Get a batch of training data\n",
    "images, labels = next(iter(DataLoader(train_dataset, batch_size=9)))\n",
    "\n",
    "# Plot the images in the batch\n",
    "plt.figure(figsize=(10, 10))\n",
    "for i in range(9):\n",
    "    plt.subplot(3, 3, i+1)\n",
    "    plt.imshow(images[i].numpy().squeeze(), cmap='gray')\n",
    "    plt.title(f\"Label: {labels_map[labels[i].item()]}\", fontsize=12)\n",
    "    plt.axis('off')\n",
    "\n",
    "plt.suptitle(\"Visualization of Training Images\", fontsize=16)\n",
    "plt.show()\n"
   ]
  },
  {
   "cell_type": "code",
   "execution_count": 7,
   "metadata": {
    "id": "zdmHiUEaoAxi"
   },
   "outputs": [],
   "source": [
    "train_loader = DataLoader(train_dataset, batch_size=64, shuffle=True)\n",
    "test_loader = DataLoader(test_dataset, batch_size=64, shuffle=False)"
   ]
  },
  {
   "cell_type": "markdown",
   "metadata": {
    "id": "r7k3m40OpLvX"
   },
   "source": [
    "## Initlaizing model and required paramters for the training"
   ]
  },
  {
   "cell_type": "code",
   "execution_count": 38,
   "metadata": {
    "id": "5aktfaD8pPzE"
   },
   "outputs": [],
   "source": [
    "\n",
    "device = torch.device(\"cuda\" if torch.cuda.is_available() else \"cpu\")\n",
    "model = Net()\n",
    "model.to(device)\n",
    "optimizer = torch.optim.Adam(model.parameters(), lr=0.001)\n",
    "criterion = nn.CrossEntropyLoss()"
   ]
  },
  {
   "cell_type": "code",
   "execution_count": 39,
   "metadata": {
    "id": "GX-qVqwcph0b"
   },
   "outputs": [],
   "source": [
    "# define step training function\n",
    "\n",
    "def train_step(engine,batch):\n",
    "  model.train()\n",
    "  x,y =batch[0].to(device), batch[1].to(device)\n",
    "  optimizer.zero_grad()\n",
    "  y_pred = model(x)\n",
    "  loss= criterion(y_pred,y)\n",
    "  loss.backward()\n",
    "  optimizer.step()\n",
    "  return loss.item()\n",
    "\n",
    "#define validation step\n",
    "def validation_step(engine, batch):\n",
    "    model.eval()\n",
    "    with torch.no_grad():\n",
    "        x, y = batch[0].to(device), batch[1].to(device)\n",
    "        y_pred = model(x)\n",
    "        return y_pred, y"
   ]
  },
  {
   "cell_type": "code",
   "execution_count": 40,
   "metadata": {
    "id": "W0vA9ry6qCnR"
   },
   "outputs": [],
   "source": [
    "trainer = create_supervised_trainer(model, optimizer, criterion, device)\n",
    "\n",
    "val_metrics = {\n",
    "    \"accuracy\": Accuracy(),\n",
    "    \"loss\": Loss(criterion)\n",
    "}\n",
    "\n",
    "train_evaluator = create_supervised_evaluator(model, metrics=val_metrics, device=device)\n",
    "\n",
    "val_evaluator = create_supervised_evaluator(model, metrics=val_metrics, device=device)\n"
   ]
  },
  {
   "cell_type": "code",
   "execution_count": 41,
   "metadata": {
    "id": "RvBTA2NAqhT4"
   },
   "outputs": [],
   "source": [
    "@trainer.on(Events.EPOCH_COMPLETED)\n",
    "def log_training_loss(engine):\n",
    "    print(f\"Epoch[{engine.state.epoch}] Loss: {engine.state.output:.2f}\")\n",
    "\n",
    "@trainer.on(Events.EPOCH_COMPLETED)\n",
    "def log_training_results(engine):\n",
    "    train_evaluator.run(train_loader)\n",
    "    metrics = train_evaluator.state.metrics\n",
    "    print(f\"Training Results - Epoch: {engine.state.epoch}  Avg loss: {metrics['loss']:.2f} Avg accuracy: {metrics['accuracy']:.2f}\")"
   ]
  },
  {
   "cell_type": "code",
   "execution_count": 42,
   "metadata": {
    "colab": {
     "base_uri": "https://localhost:8080/"
    },
    "id": "bEpVGaOIqkRA",
    "outputId": "71c2ccc0-9022-41d7-d6d1-166e9ee37182"
   },
   "outputs": [
    {
     "data": {
      "text/plain": [
       "<ignite.engine.events.RemovableEventHandle at 0x7bcbe1f49960>"
      ]
     },
     "execution_count": 42,
     "metadata": {},
     "output_type": "execute_result"
    }
   ],
   "source": [
    "# Score function to return current value of any metric we defined above in val_metrics\n",
    "def score_function(engine):\n",
    "    return engine.state.metrics[\"accuracy\"]\n",
    "\n",
    "# Checkpoint to store n_saved best models wrt score function\n",
    "model_checkpoint = ModelCheckpoint(\n",
    "    \"checkpoint\",\n",
    "    n_saved=2,\n",
    "    filename_prefix=\"best\",\n",
    "    score_function=score_function,\n",
    "    score_name=\"accuracy\",\n",
    "    global_step_transform=global_step_from_engine(trainer), # helps fetch the trainer's state\n",
    ")\n",
    "\n",
    "# Save the model after every epoch of val_evaluator is completed\n",
    "val_evaluator.add_event_handler(Events.COMPLETED, model_checkpoint, {\"model\": model})"
   ]
  },
  {
   "cell_type": "code",
   "execution_count": 43,
   "metadata": {
    "id": "2uKVS-bRvsJh"
   },
   "outputs": [],
   "source": [
    "trainer.state.epoch = 0"
   ]
  },
  {
   "cell_type": "code",
   "execution_count": 44,
   "metadata": {
    "colab": {
     "base_uri": "https://localhost:8080/"
    },
    "id": "_-iwlWmGruFd",
    "outputId": "1ba30eb5-faea-41fd-c369-73c4ee840ada"
   },
   "outputs": [
    {
     "name": "stdout",
     "output_type": "stream",
     "text": [
      "Epoch[1] Loss: 0.24\n",
      "Training Results - Epoch: 1  Avg loss: 0.39 Avg accuracy: 0.86\n",
      "Epoch[2] Loss: 0.30\n",
      "Training Results - Epoch: 2  Avg loss: 0.34 Avg accuracy: 0.87\n",
      "Epoch[3] Loss: 0.35\n",
      "Training Results - Epoch: 3  Avg loss: 0.31 Avg accuracy: 0.88\n",
      "Epoch[4] Loss: 0.30\n",
      "Training Results - Epoch: 4  Avg loss: 0.29 Avg accuracy: 0.89\n",
      "Epoch[5] Loss: 0.23\n",
      "Training Results - Epoch: 5  Avg loss: 0.27 Avg accuracy: 0.90\n",
      "Epoch[6] Loss: 0.31\n",
      "Training Results - Epoch: 6  Avg loss: 0.27 Avg accuracy: 0.89\n"
     ]
    },
    {
     "data": {
      "text/plain": [
       "State:\n",
       "\titeration: 5628\n",
       "\tepoch: 6\n",
       "\tepoch_length: 938\n",
       "\tmax_epochs: 6\n",
       "\toutput: 0.3143666386604309\n",
       "\tbatch: <class 'list'>\n",
       "\tmetrics: <class 'dict'>\n",
       "\tdataloader: <class 'torch.utils.data.dataloader.DataLoader'>\n",
       "\tseed: <class 'NoneType'>\n",
       "\ttimes: <class 'dict'>"
      ]
     },
     "execution_count": 44,
     "metadata": {},
     "output_type": "execute_result"
    }
   ],
   "source": [
    "trainer.run(train_loader,max_epochs= 6)"
   ]
  },
  {
   "cell_type": "markdown",
   "metadata": {
    "id": "_j7sZrmSw35I"
   },
   "source": [
    "# Save model state_dict"
   ]
  },
  {
   "cell_type": "code",
   "execution_count": 45,
   "metadata": {
    "id": "JntEEB5Jvft_"
   },
   "outputs": [],
   "source": [
    "torch.save(model.state_dict(), 'MNSIT_ignite_model.pth' )"
   ]
  },
  {
   "cell_type": "markdown",
   "metadata": {
    "id": "6UytstMKy8A4"
   },
   "source": [
    "## Loading model and inference from loaded model"
   ]
  },
  {
   "cell_type": "code",
   "execution_count": 54,
   "metadata": {
    "colab": {
     "base_uri": "https://localhost:8080/"
    },
    "id": "hpWmUY7GxvOa",
    "outputId": "0aa3798e-d920-4af9-8f4b-b1103e7cb3cd"
   },
   "outputs": [
    {
     "data": {
      "text/plain": [
       "<All keys matched successfully>"
      ]
     },
     "execution_count": 54,
     "metadata": {},
     "output_type": "execute_result"
    }
   ],
   "source": [
    "model1 = Net()\n",
    "\n",
    "model1.load_state_dict(torch.load('MNSIT_ignite_model.pth'))"
   ]
  },
  {
   "cell_type": "code",
   "execution_count": 56,
   "metadata": {
    "colab": {
     "base_uri": "https://localhost:8080/"
    },
    "id": "vEECKxbPxAD1",
    "outputId": "608ede7a-539a-456f-bb9c-9800f8e70ef4"
   },
   "outputs": [
    {
     "name": "stdout",
     "output_type": "stream",
     "text": [
      "Predicted: 0\n",
      "Target: 0\n"
     ]
    }
   ],
   "source": [
    "sample, label = test_dataset[35]  # Get a single sample\n",
    "sample_reshaped = sample.unsqueeze(0)\n",
    "# Perform inference\n",
    "with torch.no_grad():\n",
    "    output = model1(sample)\n",
    "    predicted_index = output.argmax(dim=1).item()\n",
    "\n",
    "# Map the predicted class to the actual label\n",
    "class_names = ['T-shirt/top', 'Trouser', 'Pullover', 'Dress', 'Coat',\n",
    "               'Sandal', 'Shirt', 'Sneaker', 'Bag', 'Ankle boot']\n",
    "\n",
    "print(f'Predicted: {predicted_index}')\n",
    "print(f'Target: {label}')"
   ]
  },
  {
   "cell_type": "code",
   "execution_count": 57,
   "metadata": {
    "colab": {
     "base_uri": "https://localhost:8080/",
     "height": 465
    },
    "id": "c_P8zpO5xZS0",
    "outputId": "72fc63f0-055e-43cb-85c1-75835ec8c0ff"
   },
   "outputs": [
    {
     "data": {
      "image/png": "[encoded data removed]",
      "text/plain": [
       "<Figure size 500x500 with 1 Axes>"
      ]
     },
     "metadata": {},
     "output_type": "display_data"
    }
   ],
   "source": [
    "import matplotlib.pyplot as plt\n",
    "\n",
    "figure = plt.figure(figsize=(5, 5))\n",
    "plt.title(f\"Label: {labels_map[label]} \\n Predicted: {labels_map[predicted_index]}\")\n",
    "plt.imshow(sample.squeeze(), cmap=\"gray\")\n",
    "plt.xlabel(labels_map[predicted_index])\n",
    "plt.axis(\"off\")\n",
    "plt.show()"
   ]
  },
  {
   "cell_type": "code",
   "execution_count": null,
   "metadata": {
    "id": "uscJNGIRywbh"
   },
   "outputs": [],
   "source": []
  }
 ],
 "metadata": {
  "accelerator": "GPU",
  "colab": {
   "gpuType": "T4",
   "provenance": []
  },
  "kernelspec": {
   "display_name": "Python 3 (ipykernel)",
   "language": "python",
   "name": "python3"
  },
  "language_info": {
   "codemirror_mode": {
    "name": "ipython",
    "version": 3
   },
   "file_extension": ".py",
   "mimetype": "text/x-python",
   "name": "python",
   "nbconvert_exporter": "python",
   "pygments_lexer": "ipython3",
   "version": "3.12.3"
  }
 },
 "nbformat": 4,
 "nbformat_minor": 1
}
