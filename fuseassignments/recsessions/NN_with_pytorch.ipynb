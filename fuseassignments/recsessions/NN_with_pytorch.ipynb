{
 "cells": [
  {
   "cell_type": "markdown",
   "metadata": {},
   "source": [
    "## Pytorch Ecosystem for Training Neural Netwrok"
   ]
  },
  {
   "cell_type": "code",
   "execution_count": 1,
   "metadata": {},
   "outputs": [
    {
     "name": "stdout",
     "output_type": "stream",
     "text": [
      "Requirement already satisfied: torch in /home/ayusao/virtual/lib/python3.12/site-packages (2.3.1)\n",
      "Requirement already satisfied: torchvision in /home/ayusao/virtual/lib/python3.12/site-packages (0.18.1)\n",
      "Requirement already satisfied: filelock in /home/ayusao/virtual/lib/python3.12/site-packages (from torch) (3.14.0)\n",
      "Requirement already satisfied: typing-extensions>=4.8.0 in /home/ayusao/virtual/lib/python3.12/site-packages (from torch) (4.12.2)\n",
      "Requirement already satisfied: sympy in /home/ayusao/virtual/lib/python3.12/site-packages (from torch) (1.12.1)\n",
      "Requirement already satisfied: networkx in /home/ayusao/virtual/lib/python3.12/site-packages (from torch) (3.3)\n",
      "Requirement already satisfied: jinja2 in /home/ayusao/virtual/lib/python3.12/site-packages (from torch) (3.1.4)\n",
      "Requirement already satisfied: fsspec in /home/ayusao/virtual/lib/python3.12/site-packages (from torch) (2024.6.0)\n",
      "Requirement already satisfied: nvidia-cuda-nvrtc-cu12==12.1.105 in /home/ayusao/virtual/lib/python3.12/site-packages (from torch) (12.1.105)\n",
      "Requirement already satisfied: nvidia-cuda-runtime-cu12==12.1.105 in /home/ayusao/virtual/lib/python3.12/site-packages (from torch) (12.1.105)\n",
      "Requirement already satisfied: nvidia-cuda-cupti-cu12==12.1.105 in /home/ayusao/virtual/lib/python3.12/site-packages (from torch) (12.1.105)\n",
      "Requirement already satisfied: nvidia-cudnn-cu12==8.9.2.26 in /home/ayusao/virtual/lib/python3.12/site-packages (from torch) (8.9.2.26)\n",
      "Requirement already satisfied: nvidia-cublas-cu12==12.1.3.1 in /home/ayusao/virtual/lib/python3.12/site-packages (from torch) (12.1.3.1)\n",
      "Requirement already satisfied: nvidia-cufft-cu12==11.0.2.54 in /home/ayusao/virtual/lib/python3.12/site-packages (from torch) (11.0.2.54)\n",
      "Requirement already satisfied: nvidia-curand-cu12==10.3.2.106 in /home/ayusao/virtual/lib/python3.12/site-packages (from torch) (10.3.2.106)\n",
      "Requirement already satisfied: nvidia-cusolver-cu12==11.4.5.107 in /home/ayusao/virtual/lib/python3.12/site-packages (from torch) (11.4.5.107)\n",
      "Requirement already satisfied: nvidia-cusparse-cu12==12.1.0.106 in /home/ayusao/virtual/lib/python3.12/site-packages (from torch) (12.1.0.106)\n",
      "Requirement already satisfied: nvidia-nccl-cu12==2.20.5 in /home/ayusao/virtual/lib/python3.12/site-packages (from torch) (2.20.5)\n",
      "Requirement already satisfied: nvidia-nvtx-cu12==12.1.105 in /home/ayusao/virtual/lib/python3.12/site-packages (from torch) (12.1.105)\n",
      "Requirement already satisfied: nvidia-nvjitlink-cu12 in /home/ayusao/virtual/lib/python3.12/site-packages (from nvidia-cusolver-cu12==11.4.5.107->torch) (12.5.40)\n",
      "Requirement already satisfied: numpy in /home/ayusao/virtual/lib/python3.12/site-packages (from torchvision) (1.26.4)\n",
      "Requirement already satisfied: pillow!=8.3.*,>=5.3.0 in /home/ayusao/virtual/lib/python3.12/site-packages (from torchvision) (10.3.0)\n",
      "Requirement already satisfied: MarkupSafe>=2.0 in /home/ayusao/virtual/lib/python3.12/site-packages (from jinja2->torch) (2.1.5)\n",
      "Requirement already satisfied: mpmath<1.4.0,>=1.1.0 in /home/ayusao/virtual/lib/python3.12/site-packages (from sympy->torch) (1.3.0)\n",
      "Requirement already satisfied: tqdm in /home/ayusao/virtual/lib/python3.12/site-packages (4.66.4)\n",
      "Requirement already satisfied: matplotlib in /home/ayusao/virtual/lib/python3.12/site-packages (3.9.0)\n",
      "Requirement already satisfied: numpy in /home/ayusao/virtual/lib/python3.12/site-packages (1.26.4)\n",
      "Requirement already satisfied: contourpy>=1.0.1 in /home/ayusao/virtual/lib/python3.12/site-packages (from matplotlib) (1.2.1)\n",
      "Requirement already satisfied: cycler>=0.10 in /home/ayusao/virtual/lib/python3.12/site-packages (from matplotlib) (0.12.1)\n",
      "Requirement already satisfied: fonttools>=4.22.0 in /home/ayusao/virtual/lib/python3.12/site-packages (from matplotlib) (4.53.0)\n",
      "Requirement already satisfied: kiwisolver>=1.3.1 in /home/ayusao/virtual/lib/python3.12/site-packages (from matplotlib) (1.4.5)\n",
      "Requirement already satisfied: packaging>=20.0 in /home/ayusao/virtual/lib/python3.12/site-packages (from matplotlib) (24.1)\n",
      "Requirement already satisfied: pillow>=8 in /home/ayusao/virtual/lib/python3.12/site-packages (from matplotlib) (10.3.0)\n",
      "Requirement already satisfied: pyparsing>=2.3.1 in /home/ayusao/virtual/lib/python3.12/site-packages (from matplotlib) (3.1.2)\n",
      "Requirement already satisfied: python-dateutil>=2.7 in /home/ayusao/virtual/lib/python3.12/site-packages (from matplotlib) (2.9.0.post0)\n",
      "Requirement already satisfied: six>=1.5 in /home/ayusao/virtual/lib/python3.12/site-packages (from python-dateutil>=2.7->matplotlib) (1.16.0)\n"
     ]
    }
   ],
   "source": [
    "# cell 1\n",
    "# Install dependencies\n",
    "!pip install torch torchvision\n",
    "!pip install tqdm matplotlib numpy"
   ]
  },
  {
   "cell_type": "code",
   "execution_count": 2,
   "metadata": {},
   "outputs": [],
   "source": [
    "# cell 2\n",
    "# Import Libraries\n",
    "import torch\n",
    "import torch.nn as nn\n",
    "import torch.optim as optim\n",
    "import torch.nn.functional as F\n",
    "import matplotlib.pyplot as plt\n",
    "import numpy as np"
   ]
  },
  {
   "cell_type": "markdown",
   "metadata": {},
   "source": [
    "### Single Layer Perceptron\n",
    "* We will be using single Perceptron Neuron for simulating the behaviour of different basic logic gates.\n",
    "* In pytorch while defining model architecture, the model class must inherit the parent class nn.Module. \n",
    "* The model class must at least contains two methods viz. __init__() method in which we define all the layers and forward() method in which we pass the data and operates on data."
   ]
  },
  {
   "cell_type": "code",
   "execution_count": 3,
   "metadata": {},
   "outputs": [],
   "source": [
    "# cell 3\n",
    "# Perceptron architecture\n",
    "class Perceptron(nn.Module):\n",
    "    def __init__(self, input_dim):\n",
    "        super(Perceptron, self).__init__()\n",
    "        self.fc = nn.Linear(input_dim, 1)\n",
    "    \n",
    "    def forward(self, x):\n",
    "        x = self.fc(x)\n",
    "        x = torch.sigmoid(x)\n",
    "        return x"
   ]
  },
  {
   "cell_type": "markdown",
   "metadata": {},
   "source": [
    "### Training Loop\n",
    "* In native pytorch, we have to write our own training loop.\n",
    "* First set the model to train mode that ensures gradients are computed and propagated.\n",
    "* Then we have to set optimizer to zero_grad() at the beginning of every epoch otherwise the gradient will get accumulated from previous epochs.\n",
    "* Then, we get the outputs for inputs from model and calculate loss.\n",
    "* The loss is then used to calculate gradients for backward propagation.\n",
    "* Then, weights are updated."
   ]
  },
  {
   "cell_type": "code",
   "execution_count": 4,
   "metadata": {},
   "outputs": [],
   "source": [
    "# cell 4\n",
    "# # Training loop\n",
    "def train_perceptron(model, criterion, optimizer, data, targets, epochs=100):\n",
    "    for epoch in range(epochs):\n",
    "        model.train()\n",
    "        \n",
    "        optimizer.zero_grad()\n",
    "        \n",
    "        # Forward pass\n",
    "        outputs = model(data)\n",
    "        loss = criterion(outputs, targets)\n",
    "        \n",
    "        # Backward pass\n",
    "        loss.backward()\n",
    "        \n",
    "        # Optimization step: update weights\n",
    "        optimizer.step()\n",
    "        \n",
    "        if (epoch+1) % 10 == 0:\n",
    "            print(f'Epoch [{epoch+1}/{epochs}], Loss: {loss.item():.4f}')"
   ]
  },
  {
   "cell_type": "markdown",
   "metadata": {},
   "source": [
    "### Prediction from Trained Model\n",
    "* Before we make prediction from model, we have to set model to eval model so that gradients will not be computed and stored. It will also make inferencing faster."
   ]
  },
  {
   "cell_type": "code",
   "execution_count": 5,
   "metadata": {},
   "outputs": [],
   "source": [
    "# cell 5\n",
    "# Predict outputs\n",
    "def test_perceptron(model, data):\n",
    "    model.eval()\n",
    "    with torch.no_grad():\n",
    "        outputs = model(data)\n",
    "        predicted = outputs.round().squeeze() #rounds the output value to the nearest integer\n",
    "        return predicted"
   ]
  },
  {
   "cell_type": "code",
   "execution_count": 6,
   "metadata": {},
   "outputs": [],
   "source": [
    "# cell 6\n",
    "# Sample data (AND logic gate)\n",
    "data = torch.tensor([[0, 0], [0, 1], [1, 0], [1, 1]], dtype=torch.float32)\n",
    "targets = torch.tensor([[0], [0], [0], [1]], dtype=torch.float32)"
   ]
  },
  {
   "cell_type": "markdown",
   "metadata": {},
   "source": [
    "### Visualization of AND Gate Data"
   ]
  },
  {
   "cell_type": "code",
   "execution_count": 7,
   "metadata": {},
   "outputs": [
    {
     "data": {
      "image/png": "[encoded data removed]",
      "text/plain": [
       "<Figure size 800x600 with 1 Axes>"
      ]
     },
     "metadata": {},
     "output_type": "display_data"
    }
   ],
   "source": [
    "# cell 7\n",
    "# Scatter plot for AND gate data\n",
    "plt.figure(figsize=(8, 6))\n",
    "\n",
    "for i in range(data.shape[0]):\n",
    "    if targets[i] == 0:\n",
    "        plt.scatter(data[i, 0].item(), data[i, 1].item(), color='red', marker='o', label='0' if i == 0 else \"\")\n",
    "    else:\n",
    "        plt.scatter(data[i, 0].item(), data[i, 1].item(), color='blue', marker='x', label='1' if i == 3 else \"\")\n",
    "\n",
    "plt.title('AND Gate Data Plot')\n",
    "plt.xlabel('Input 1')\n",
    "plt.ylabel('Input 2')\n",
    "plt.legend()\n",
    "plt.grid(True)\n",
    "plt.show()"
   ]
  },
  {
   "cell_type": "code",
   "execution_count": 8,
   "metadata": {},
   "outputs": [],
   "source": [
    "# cell 8\n",
    "# Instantiate the perceptron model\n",
    "input_dim = data.shape[1]  # number of input features\n",
    "perceptron = Perceptron(input_dim)\n",
    "\n",
    "# Define loss and optimizer\n",
    "criterion = nn.BCELoss()\n",
    "optimizer = optim.SGD(perceptron.parameters(), lr=0.1)"
   ]
  },
  {
   "cell_type": "code",
   "execution_count": 9,
   "metadata": {},
   "outputs": [
    {
     "name": "stdout",
     "output_type": "stream",
     "text": [
      "Epoch [10/250], Loss: 0.7004\n",
      "Epoch [20/250], Loss: 0.6457\n",
      "Epoch [30/250], Loss: 0.6094\n",
      "Epoch [40/250], Loss: 0.5820\n",
      "Epoch [50/250], Loss: 0.5594\n",
      "Epoch [60/250], Loss: 0.5396\n",
      "Epoch [70/250], Loss: 0.5217\n",
      "Epoch [80/250], Loss: 0.5052\n",
      "Epoch [90/250], Loss: 0.4899\n",
      "Epoch [100/250], Loss: 0.4756\n",
      "Epoch [110/250], Loss: 0.4622\n",
      "Epoch [120/250], Loss: 0.4496\n",
      "Epoch [130/250], Loss: 0.4378\n",
      "Epoch [140/250], Loss: 0.4266\n",
      "Epoch [150/250], Loss: 0.4160\n",
      "Epoch [160/250], Loss: 0.4060\n",
      "Epoch [170/250], Loss: 0.3965\n",
      "Epoch [180/250], Loss: 0.3876\n",
      "Epoch [190/250], Loss: 0.3790\n",
      "Epoch [200/250], Loss: 0.3709\n",
      "Epoch [210/250], Loss: 0.3631\n",
      "Epoch [220/250], Loss: 0.3557\n",
      "Epoch [230/250], Loss: 0.3487\n",
      "Epoch [240/250], Loss: 0.3419\n",
      "Epoch [250/250], Loss: 0.3355\n"
     ]
    }
   ],
   "source": [
    "# cell 9\n",
    "train_perceptron(perceptron, criterion, optimizer, data, targets, epochs=250)"
   ]
  },
  {
   "cell_type": "code",
   "execution_count": 10,
   "metadata": {},
   "outputs": [
    {
     "name": "stdout",
     "output_type": "stream",
     "text": [
      "Predicted: [0. 0. 0. 1.]\n",
      "Targets: [0. 0. 0. 1.]\n"
     ]
    }
   ],
   "source": [
    "# cell 10\n",
    "# Predict outputs\n",
    "predicted = test_perceptron(perceptron, data)\n",
    "print(f'Predicted: {predicted.numpy()}')\n",
    "print(f'Targets: {targets.squeeze().numpy()}')"
   ]
  },
  {
   "cell_type": "markdown",
   "metadata": {},
   "source": [
    "### Visualization of Decision Boundary Learnt By Perceptron"
   ]
  },
  {
   "cell_type": "code",
   "execution_count": 11,
   "metadata": {},
   "outputs": [
    {
     "data": {
      "image/png": "[encoded data removed]",
      "text/plain": [
       "<Figure size 800x600 with 1 Axes>"
      ]
     },
     "metadata": {},
     "output_type": "display_data"
    }
   ],
   "source": [
    "# cell 11\n",
    "plt.figure(figsize=(8, 6))\n",
    "\n",
    "# Scatter plot for AND gate data\n",
    "for i in range(data.shape[0]):\n",
    "    if targets[i] == 0:\n",
    "        plt.scatter(data[i, 0].item(), data[i, 1].item(), color='red', marker='o', label='0' if i == 0 else \"\")\n",
    "    else:\n",
    "        plt.scatter(data[i, 0].item(), data[i, 1].item(), color='blue', marker='x', label='1' if i == 3 else \"\")\n",
    "        \n",
    "# Generate a grid of points\n",
    "x_min, x_max = data[:, 0].min() - 0.5, data[:, 0].max() + 0.5\n",
    "y_min, y_max = data[:, 1].min() - 0.5, data[:, 1].max() + 0.5\n",
    "xx, yy = np.meshgrid(np.arange(x_min, x_max, 0.01), np.arange(y_min, y_max, 0.01))\n",
    "grid = torch.tensor(np.c_[xx.ravel(), yy.ravel()], dtype=torch.float32)\n",
    "\n",
    "# Predict outputs for the grid points\n",
    "with torch.no_grad():\n",
    "    zz = perceptron(grid).reshape(xx.shape)\n",
    "\n",
    "# Plot the decision boundary\n",
    "plt.contourf(xx, yy, zz, levels=[0, 0.5, 1], alpha=0.2, colors=['red', 'blue'])\n",
    "\n",
    "plt.title('AND Gate Data with Decision Boundary')\n",
    "plt.xlabel('Input 1')\n",
    "plt.ylabel('Input 2')\n",
    "plt.legend()\n",
    "plt.grid(True)\n",
    "plt.show()"
   ]
  },
  {
   "cell_type": "markdown",
   "metadata": {},
   "source": [
    "### How it performs for XOR Gate?"
   ]
  },
  {
   "cell_type": "code",
   "execution_count": 12,
   "metadata": {},
   "outputs": [],
   "source": [
    "# cell 12\n",
    "# Sample data (XOR logic gate)\n",
    "# Your code here\n",
    "xor_data = torch.tensor([[0, 0], [0, 1], [1, 0], [1, 1]], dtype=torch.float32)\n",
    "xor_targets = torch.tensor([[0], [1], [1], [0]], dtype=torch.float32)"
   ]
  },
  {
   "cell_type": "markdown",
   "metadata": {},
   "source": [
    "### Visualization of XOR Gate Data"
   ]
  },
  {
   "cell_type": "code",
   "execution_count": 13,
   "metadata": {},
   "outputs": [
    {
     "data": {
      "image/png": "[encoded data removed]",
      "text/plain": [
       "<Figure size 800x600 with 1 Axes>"
      ]
     },
     "metadata": {},
     "output_type": "display_data"
    }
   ],
   "source": [
    "# cell 13\n",
    "plt.figure(figsize=(8, 6))\n",
    "\n",
    "# Scatter plot for XOR gate data\n",
    "for i in range(xor_data.shape[0]):\n",
    "    if xor_targets[i] == 0:\n",
    "        plt.scatter(xor_data[i, 0].item(), data[i, 1].item(), color='red', marker='o', label='0' if i == 0 else \"\")\n",
    "    else:\n",
    "        plt.scatter(xor_data[i, 0].item(), data[i, 1].item(), color='blue', marker='x', label='1' if i == 1 else \"\")\n",
    "\n",
    "plt.title('XOR Gate Data Visualization')\n",
    "plt.xlabel('Input 1')\n",
    "plt.ylabel('Input 2')\n",
    "plt.legend()\n",
    "plt.grid(True)\n",
    "plt.show()\n"
   ]
  },
  {
   "cell_type": "markdown",
   "metadata": {},
   "source": [
    "Training Single Perceptron Neuron for XOR Gate"
   ]
  },
  {
   "cell_type": "code",
   "execution_count": 14,
   "metadata": {},
   "outputs": [
    {
     "name": "stdout",
     "output_type": "stream",
     "text": [
      "Epoch [10/400], Loss: 0.8437\n",
      "Epoch [20/400], Loss: 0.8228\n",
      "Epoch [30/400], Loss: 0.8090\n",
      "Epoch [40/400], Loss: 0.7989\n",
      "Epoch [50/400], Loss: 0.7908\n",
      "Epoch [60/400], Loss: 0.7839\n",
      "Epoch [70/400], Loss: 0.7777\n",
      "Epoch [80/400], Loss: 0.7721\n",
      "Epoch [90/400], Loss: 0.7668\n",
      "Epoch [100/400], Loss: 0.7619\n",
      "Epoch [110/400], Loss: 0.7574\n",
      "Epoch [120/400], Loss: 0.7531\n",
      "Epoch [130/400], Loss: 0.7490\n",
      "Epoch [140/400], Loss: 0.7452\n",
      "Epoch [150/400], Loss: 0.7417\n",
      "Epoch [160/400], Loss: 0.7383\n",
      "Epoch [170/400], Loss: 0.7352\n",
      "Epoch [180/400], Loss: 0.7322\n",
      "Epoch [190/400], Loss: 0.7295\n",
      "Epoch [200/400], Loss: 0.7269\n",
      "Epoch [210/400], Loss: 0.7246\n",
      "Epoch [220/400], Loss: 0.7223\n",
      "Epoch [230/400], Loss: 0.7202\n",
      "Epoch [240/400], Loss: 0.7183\n",
      "Epoch [250/400], Loss: 0.7165\n",
      "Epoch [260/400], Loss: 0.7148\n",
      "Epoch [270/400], Loss: 0.7132\n",
      "Epoch [280/400], Loss: 0.7118\n",
      "Epoch [290/400], Loss: 0.7104\n",
      "Epoch [300/400], Loss: 0.7091\n",
      "Epoch [310/400], Loss: 0.7080\n",
      "Epoch [320/400], Loss: 0.7069\n",
      "Epoch [330/400], Loss: 0.7059\n",
      "Epoch [340/400], Loss: 0.7049\n",
      "Epoch [350/400], Loss: 0.7041\n",
      "Epoch [360/400], Loss: 0.7033\n",
      "Epoch [370/400], Loss: 0.7025\n",
      "Epoch [380/400], Loss: 0.7018\n",
      "Epoch [390/400], Loss: 0.7012\n",
      "Epoch [400/400], Loss: 0.7006\n"
     ]
    }
   ],
   "source": [
    "# cell 14\n",
    "train_perceptron(perceptron, criterion, optimizer, xor_data, xor_targets, epochs=400)"
   ]
  },
  {
   "cell_type": "code",
   "execution_count": 15,
   "metadata": {},
   "outputs": [
    {
     "name": "stdout",
     "output_type": "stream",
     "text": [
      "Predicted: [0. 0. 0. 1.]\n",
      "Targets: [0. 1. 1. 0.]\n"
     ]
    }
   ],
   "source": [
    "# cell 15\n",
    "# Predicting outputs for XOR Gate\n",
    "predicted = test_perceptron(perceptron, xor_data)\n",
    "print(f'Predicted: {predicted.numpy()}')\n",
    "print(f'Targets: {xor_targets.squeeze().numpy()}')\n",
    "#data ko trend bujhnai sakena, can't classify linearly-- can't be done by single perceptron"
   ]
  },
  {
   "cell_type": "markdown",
   "metadata": {},
   "source": [
    "### Visualization of Decision Boundary Learnt by Sinlge Perceptron Neuron for XOR Gate"
   ]
  },
  {
   "cell_type": "code",
   "execution_count": 16,
   "metadata": {},
   "outputs": [
    {
     "data": {
      "image/png": "[encoded data removed]",
      "text/plain": [
       "<Figure size 800x600 with 1 Axes>"
      ]
     },
     "metadata": {},
     "output_type": "display_data"
    }
   ],
   "source": [
    "# cell 16\n",
    "plt.figure(figsize=(8, 6))\n",
    "\n",
    "# Scatter plot for XOR gate data\n",
    "for i in range(xor_data.shape[0]):\n",
    "    if xor_targets[i] == 0:\n",
    "        plt.scatter(xor_data[i, 0].item(), data[i, 1].item(), color='red', marker='o', label='0' if i == 0 else \"\")\n",
    "    else:\n",
    "        plt.scatter(xor_data[i, 0].item(), data[i, 1].item(), color='blue', marker='x', label='1' if i == 1 else \"\")\n",
    "\n",
    "# Generate a grid of points\n",
    "x_min, x_max = data[:, 0].min() - 0.5, data[:, 0].max() + 0.5\n",
    "y_min, y_max = data[:, 1].min() - 0.5, data[:, 1].max() + 0.5\n",
    "xx, yy = np.meshgrid(np.arange(x_min, x_max, 0.01), np.arange(y_min, y_max, 0.01))\n",
    "grid = torch.tensor(np.c_[xx.ravel(), yy.ravel()], dtype=torch.float32)\n",
    "\n",
    "# Predict outputs for the grid points\n",
    "with torch.no_grad():\n",
    "    zz = perceptron(grid).reshape(xx.shape)\n",
    "\n",
    "# Plot the decision boundary\n",
    "plt.contourf(xx, yy, zz, levels=[0, 0.5, 1], alpha=0.2, colors=['red', 'blue'])\n",
    "\n",
    "plt.title('XOR Gate Data with Decision Boundary')\n",
    "plt.xlabel('Input 1')\n",
    "plt.ylabel('Input 2')\n",
    "plt.legend()\n",
    "plt.grid(True)\n",
    "plt.show()\n"
   ]
  },
  {
   "cell_type": "markdown",
   "metadata": {},
   "source": [
    "## MultiLayer Perceptron"
   ]
  },
  {
   "cell_type": "code",
   "execution_count": 17,
   "metadata": {},
   "outputs": [],
   "source": [
    "# cell 17\n",
    "# Your code here\n",
    "\n",
    "class MLP(nn.Module):\n",
    "    def __init__(self, input_dim):\n",
    "        super(MLP, self).__init__()\n",
    "        self.fc1 = nn.Linear(input_dim, 3)  # First hidden layer with 2 neurons\n",
    "        self.fc2 = nn.Linear(3,1)          # Output layer with 1 neuron\n",
    "    \n",
    "    def forward(self, x):\n",
    "        x = torch.relu(self.fc1(x))\n",
    "        x = torch.sigmoid(self.fc2(x))\n",
    "        return x"
   ]
  },
  {
   "cell_type": "code",
   "execution_count": 18,
   "metadata": {},
   "outputs": [],
   "source": [
    "# cell 18\n",
    "def train_mlp(model, criterion, optimizer, data, targets, epochs=1000):\n",
    "    for epoch in range(epochs):\n",
    "        model.train()\n",
    "        \n",
    "        optimizer.zero_grad()\n",
    "        \n",
    "        # Forward pass\n",
    "        outputs = model(data)\n",
    "        loss = criterion(outputs, targets)\n",
    "        \n",
    "        # Backward pass and optimization\n",
    "        loss.backward()\n",
    "        optimizer.step()\n",
    "        \n",
    "        if (epoch+1) % 100 == 0:\n",
    "            print(f'Epoch [{epoch+1}/{epochs}], Loss: {loss.item():.4f}')"
   ]
  },
  {
   "cell_type": "code",
   "execution_count": 19,
   "metadata": {},
   "outputs": [],
   "source": [
    "# cell 19\n",
    "# Predict outputs\n",
    "def test_mlp(model, data):\n",
    "    model.eval()\n",
    "    with torch.no_grad():\n",
    "        outputs = model(data)\n",
    "        predicted = outputs.round().squeeze()\n",
    "        return predicted"
   ]
  },
  {
   "cell_type": "code",
   "execution_count": 20,
   "metadata": {},
   "outputs": [],
   "source": [
    "# cell 20\n",
    "# Sample data (XOR logic gate)\n",
    "xor_data = torch.tensor([[0, 0], [0, 1], [1, 0], [1, 1]], dtype=torch.float32)\n",
    "xor_targets = torch.tensor([[0], [1], [1], [0]], dtype=torch.float32)"
   ]
  },
  {
   "cell_type": "code",
   "execution_count": 21,
   "metadata": {},
   "outputs": [],
   "source": [
    "# cell 21\n",
    "# Instantiate the MLP model\n",
    "input_dim = data.shape[1]\n",
    "mlp = MLP(input_dim)\n",
    "\n",
    "# Define loss and optimizer\n",
    "criterion = nn.BCELoss()\n",
    "optimizer = optim.SGD(mlp.parameters(), lr=0.1)"
   ]
  },
  {
   "cell_type": "code",
   "execution_count": 22,
   "metadata": {},
   "outputs": [
    {
     "name": "stdout",
     "output_type": "stream",
     "text": [
      "Epoch [100/20000], Loss: 0.6852\n",
      "Epoch [200/20000], Loss: 0.6595\n",
      "Epoch [300/20000], Loss: 0.6042\n",
      "Epoch [400/20000], Loss: 0.5377\n",
      "Epoch [500/20000], Loss: 0.4780\n",
      "Epoch [600/20000], Loss: 0.3855\n",
      "Epoch [700/20000], Loss: 0.2737\n",
      "Epoch [800/20000], Loss: 0.1811\n",
      "Epoch [900/20000], Loss: 0.1214\n",
      "Epoch [1000/20000], Loss: 0.0850\n",
      "Epoch [1100/20000], Loss: 0.0629\n",
      "Epoch [1200/20000], Loss: 0.0480\n",
      "Epoch [1300/20000], Loss: 0.0372\n",
      "Epoch [1400/20000], Loss: 0.0299\n",
      "Epoch [1500/20000], Loss: 0.0246\n",
      "Epoch [1600/20000], Loss: 0.0207\n",
      "Epoch [1700/20000], Loss: 0.0178\n",
      "Epoch [1800/20000], Loss: 0.0155\n",
      "Epoch [1900/20000], Loss: 0.0136\n",
      "Epoch [2000/20000], Loss: 0.0121\n",
      "Epoch [2100/20000], Loss: 0.0109\n",
      "Epoch [2200/20000], Loss: 0.0099\n",
      "Epoch [2300/20000], Loss: 0.0090\n",
      "Epoch [2400/20000], Loss: 0.0082\n",
      "Epoch [2500/20000], Loss: 0.0076\n",
      "Epoch [2600/20000], Loss: 0.0070\n",
      "Epoch [2700/20000], Loss: 0.0065\n",
      "Epoch [2800/20000], Loss: 0.0061\n",
      "Epoch [2900/20000], Loss: 0.0057\n",
      "Epoch [3000/20000], Loss: 0.0054\n",
      "Epoch [3100/20000], Loss: 0.0051\n",
      "Epoch [3200/20000], Loss: 0.0048\n",
      "Epoch [3300/20000], Loss: 0.0045\n",
      "Epoch [3400/20000], Loss: 0.0043\n",
      "Epoch [3500/20000], Loss: 0.0041\n",
      "Epoch [3600/20000], Loss: 0.0039\n",
      "Epoch [3700/20000], Loss: 0.0037\n",
      "Epoch [3800/20000], Loss: 0.0035\n",
      "Epoch [3900/20000], Loss: 0.0034\n",
      "Epoch [4000/20000], Loss: 0.0033\n",
      "Epoch [4100/20000], Loss: 0.0031\n",
      "Epoch [4200/20000], Loss: 0.0030\n",
      "Epoch [4300/20000], Loss: 0.0029\n",
      "Epoch [4400/20000], Loss: 0.0028\n",
      "Epoch [4500/20000], Loss: 0.0027\n",
      "Epoch [4600/20000], Loss: 0.0026\n",
      "Epoch [4700/20000], Loss: 0.0025\n",
      "Epoch [4800/20000], Loss: 0.0024\n",
      "Epoch [4900/20000], Loss: 0.0023\n",
      "Epoch [5000/20000], Loss: 0.0023\n",
      "Epoch [5100/20000], Loss: 0.0022\n",
      "Epoch [5200/20000], Loss: 0.0021\n",
      "Epoch [5300/20000], Loss: 0.0021\n",
      "Epoch [5400/20000], Loss: 0.0020\n",
      "Epoch [5500/20000], Loss: 0.0020\n",
      "Epoch [5600/20000], Loss: 0.0019\n",
      "Epoch [5700/20000], Loss: 0.0019\n",
      "Epoch [5800/20000], Loss: 0.0018\n",
      "Epoch [5900/20000], Loss: 0.0018\n",
      "Epoch [6000/20000], Loss: 0.0017\n",
      "Epoch [6100/20000], Loss: 0.0017\n",
      "Epoch [6200/20000], Loss: 0.0016\n",
      "Epoch [6300/20000], Loss: 0.0016\n",
      "Epoch [6400/20000], Loss: 0.0016\n",
      "Epoch [6500/20000], Loss: 0.0015\n",
      "Epoch [6600/20000], Loss: 0.0015\n",
      "Epoch [6700/20000], Loss: 0.0015\n",
      "Epoch [6800/20000], Loss: 0.0014\n",
      "Epoch [6900/20000], Loss: 0.0014\n",
      "Epoch [7000/20000], Loss: 0.0014\n",
      "Epoch [7100/20000], Loss: 0.0013\n",
      "Epoch [7200/20000], Loss: 0.0013\n",
      "Epoch [7300/20000], Loss: 0.0013\n",
      "Epoch [7400/20000], Loss: 0.0013\n",
      "Epoch [7500/20000], Loss: 0.0012\n",
      "Epoch [7600/20000], Loss: 0.0012\n",
      "Epoch [7700/20000], Loss: 0.0012\n",
      "Epoch [7800/20000], Loss: 0.0012\n",
      "Epoch [7900/20000], Loss: 0.0012\n",
      "Epoch [8000/20000], Loss: 0.0011\n",
      "Epoch [8100/20000], Loss: 0.0011\n",
      "Epoch [8200/20000], Loss: 0.0011\n",
      "Epoch [8300/20000], Loss: 0.0011\n",
      "Epoch [8400/20000], Loss: 0.0011\n",
      "Epoch [8500/20000], Loss: 0.0010\n",
      "Epoch [8600/20000], Loss: 0.0010\n",
      "Epoch [8700/20000], Loss: 0.0010\n",
      "Epoch [8800/20000], Loss: 0.0010\n",
      "Epoch [8900/20000], Loss: 0.0010\n",
      "Epoch [9000/20000], Loss: 0.0010\n",
      "Epoch [9100/20000], Loss: 0.0009\n",
      "Epoch [9200/20000], Loss: 0.0009\n",
      "Epoch [9300/20000], Loss: 0.0009\n",
      "Epoch [9400/20000], Loss: 0.0009\n",
      "Epoch [9500/20000], Loss: 0.0009\n",
      "Epoch [9600/20000], Loss: 0.0009\n",
      "Epoch [9700/20000], Loss: 0.0009\n",
      "Epoch [9800/20000], Loss: 0.0009\n",
      "Epoch [9900/20000], Loss: 0.0008\n",
      "Epoch [10000/20000], Loss: 0.0008\n",
      "Epoch [10100/20000], Loss: 0.0008\n",
      "Epoch [10200/20000], Loss: 0.0008\n",
      "Epoch [10300/20000], Loss: 0.0008\n",
      "Epoch [10400/20000], Loss: 0.0008\n",
      "Epoch [10500/20000], Loss: 0.0008\n",
      "Epoch [10600/20000], Loss: 0.0008\n",
      "Epoch [10700/20000], Loss: 0.0008\n",
      "Epoch [10800/20000], Loss: 0.0007\n",
      "Epoch [10900/20000], Loss: 0.0007\n",
      "Epoch [11000/20000], Loss: 0.0007\n",
      "Epoch [11100/20000], Loss: 0.0007\n",
      "Epoch [11200/20000], Loss: 0.0007\n",
      "Epoch [11300/20000], Loss: 0.0007\n",
      "Epoch [11400/20000], Loss: 0.0007\n",
      "Epoch [11500/20000], Loss: 0.0007\n",
      "Epoch [11600/20000], Loss: 0.0007\n",
      "Epoch [11700/20000], Loss: 0.0007\n",
      "Epoch [11800/20000], Loss: 0.0007\n",
      "Epoch [11900/20000], Loss: 0.0007\n",
      "Epoch [12000/20000], Loss: 0.0006\n",
      "Epoch [12100/20000], Loss: 0.0006\n",
      "Epoch [12200/20000], Loss: 0.0006\n",
      "Epoch [12300/20000], Loss: 0.0006\n",
      "Epoch [12400/20000], Loss: 0.0006\n",
      "Epoch [12500/20000], Loss: 0.0006\n",
      "Epoch [12600/20000], Loss: 0.0006\n",
      "Epoch [12700/20000], Loss: 0.0006\n",
      "Epoch [12800/20000], Loss: 0.0006\n",
      "Epoch [12900/20000], Loss: 0.0006\n",
      "Epoch [13000/20000], Loss: 0.0006\n",
      "Epoch [13100/20000], Loss: 0.0006\n",
      "Epoch [13200/20000], Loss: 0.0006\n",
      "Epoch [13300/20000], Loss: 0.0006\n",
      "Epoch [13400/20000], Loss: 0.0006\n",
      "Epoch [13500/20000], Loss: 0.0006\n",
      "Epoch [13600/20000], Loss: 0.0005\n",
      "Epoch [13700/20000], Loss: 0.0005\n",
      "Epoch [13800/20000], Loss: 0.0005\n",
      "Epoch [13900/20000], Loss: 0.0005\n",
      "Epoch [14000/20000], Loss: 0.0005\n",
      "Epoch [14100/20000], Loss: 0.0005\n",
      "Epoch [14200/20000], Loss: 0.0005\n",
      "Epoch [14300/20000], Loss: 0.0005\n",
      "Epoch [14400/20000], Loss: 0.0005\n",
      "Epoch [14500/20000], Loss: 0.0005\n",
      "Epoch [14600/20000], Loss: 0.0005\n",
      "Epoch [14700/20000], Loss: 0.0005\n",
      "Epoch [14800/20000], Loss: 0.0005\n",
      "Epoch [14900/20000], Loss: 0.0005\n",
      "Epoch [15000/20000], Loss: 0.0005\n",
      "Epoch [15100/20000], Loss: 0.0005\n",
      "Epoch [15200/20000], Loss: 0.0005\n",
      "Epoch [15300/20000], Loss: 0.0005\n",
      "Epoch [15400/20000], Loss: 0.0005\n",
      "Epoch [15500/20000], Loss: 0.0005\n",
      "Epoch [15600/20000], Loss: 0.0005\n",
      "Epoch [15700/20000], Loss: 0.0005\n",
      "Epoch [15800/20000], Loss: 0.0005\n",
      "Epoch [15900/20000], Loss: 0.0004\n",
      "Epoch [16000/20000], Loss: 0.0004\n",
      "Epoch [16100/20000], Loss: 0.0004\n",
      "Epoch [16200/20000], Loss: 0.0004\n",
      "Epoch [16300/20000], Loss: 0.0004\n",
      "Epoch [16400/20000], Loss: 0.0004\n",
      "Epoch [16500/20000], Loss: 0.0004\n",
      "Epoch [16600/20000], Loss: 0.0004\n",
      "Epoch [16700/20000], Loss: 0.0004\n",
      "Epoch [16800/20000], Loss: 0.0004\n",
      "Epoch [16900/20000], Loss: 0.0004\n",
      "Epoch [17000/20000], Loss: 0.0004\n",
      "Epoch [17100/20000], Loss: 0.0004\n",
      "Epoch [17200/20000], Loss: 0.0004\n",
      "Epoch [17300/20000], Loss: 0.0004\n",
      "Epoch [17400/20000], Loss: 0.0004\n",
      "Epoch [17500/20000], Loss: 0.0004\n",
      "Epoch [17600/20000], Loss: 0.0004\n",
      "Epoch [17700/20000], Loss: 0.0004\n",
      "Epoch [17800/20000], Loss: 0.0004\n",
      "Epoch [17900/20000], Loss: 0.0004\n",
      "Epoch [18000/20000], Loss: 0.0004\n",
      "Epoch [18100/20000], Loss: 0.0004\n",
      "Epoch [18200/20000], Loss: 0.0004\n",
      "Epoch [18300/20000], Loss: 0.0004\n",
      "Epoch [18400/20000], Loss: 0.0004\n",
      "Epoch [18500/20000], Loss: 0.0004\n",
      "Epoch [18600/20000], Loss: 0.0004\n",
      "Epoch [18700/20000], Loss: 0.0004\n",
      "Epoch [18800/20000], Loss: 0.0004\n",
      "Epoch [18900/20000], Loss: 0.0004\n",
      "Epoch [19000/20000], Loss: 0.0004\n",
      "Epoch [19100/20000], Loss: 0.0004\n",
      "Epoch [19200/20000], Loss: 0.0004\n",
      "Epoch [19300/20000], Loss: 0.0003\n",
      "Epoch [19400/20000], Loss: 0.0003\n",
      "Epoch [19500/20000], Loss: 0.0003\n",
      "Epoch [19600/20000], Loss: 0.0003\n",
      "Epoch [19700/20000], Loss: 0.0003\n",
      "Epoch [19800/20000], Loss: 0.0003\n",
      "Epoch [19900/20000], Loss: 0.0003\n",
      "Epoch [20000/20000], Loss: 0.0003\n"
     ]
    }
   ],
   "source": [
    "# cell 22\n",
    "train_mlp(mlp, criterion, optimizer, xor_data, xor_targets, epochs=20000)"
   ]
  },
  {
   "cell_type": "code",
   "execution_count": 23,
   "metadata": {},
   "outputs": [
    {
     "name": "stdout",
     "output_type": "stream",
     "text": [
      "Predicted: [0. 1. 1. 0.]\n",
      "Targets: [0. 1. 1. 0.]\n"
     ]
    }
   ],
   "source": [
    "# cell 23\n",
    "# Predicting outputs for XOR Gate\n",
    "predicted = test_mlp(mlp, xor_data)\n",
    "print(f'Predicted: {predicted.numpy()}')\n",
    "print(f'Targets: {xor_targets.squeeze().numpy()}')"
   ]
  },
  {
   "cell_type": "markdown",
   "metadata": {},
   "source": [
    "Visualization of Decision Boundary Learnt by MLP for XOR Gate"
   ]
  },
  {
   "cell_type": "code",
   "execution_count": 24,
   "metadata": {},
   "outputs": [
    {
     "data": {
      "image/png": "[encoded data removed]",
      "text/plain": [
       "<Figure size 800x600 with 1 Axes>"
      ]
     },
     "metadata": {},
     "output_type": "display_data"
    }
   ],
   "source": [
    "# cell 24\n",
    "plt.figure(figsize=(8, 6))\n",
    "\n",
    "# Scatter plot for XOR gate data\n",
    "for i in range(xor_data.shape[0]):\n",
    "    if xor_targets[i] == 0:\n",
    "        plt.scatter(xor_data[i, 0].item(), data[i, 1].item(), color='red', marker='o', label='0' if i == 0 else \"\")\n",
    "    else:\n",
    "        plt.scatter(xor_data[i, 0].item(), data[i, 1].item(), color='blue', marker='x', label='1' if i == 1 else \"\")\n",
    "\n",
    "# Generate a grid of points\n",
    "x_min, x_max = xor_data[:, 0].min() - 0.5, data[:, 0].max() + 0.5\n",
    "y_min, y_max = xor_data[:, 1].min() - 0.5, data[:, 1].max() + 0.5\n",
    "xx, yy = np.meshgrid(np.arange(x_min, x_max, 0.01), np.arange(y_min, y_max, 0.01))\n",
    "grid = torch.tensor(np.c_[xx.ravel(), yy.ravel()], dtype=torch.float32)\n",
    "\n",
    "# Predict outputs for the grid points\n",
    "with torch.no_grad():\n",
    "    zz = mlp(grid).reshape(xx.shape)\n",
    "\n",
    "# Plot the decision boundary\n",
    "plt.contourf(xx, yy, zz, levels=[0, 0.5, 1], alpha=0.2, colors=['red', 'blue'])\n",
    "\n",
    "plt.title('XOR Gate Data with Decision Boundary')\n",
    "plt.xlabel('Input 1')\n",
    "plt.ylabel('Input 2')\n",
    "plt.legend()\n",
    "plt.grid(True)\n",
    "plt.show()"
   ]
  },
  {
   "cell_type": "markdown",
   "metadata": {},
   "source": [
    "## MultiLayer Perceptron for FashionMNIST Dataset\n",
    "* Pytorch Model Development Pipeline\n",
    "    * Loading Dataset\n",
    "    * Building DataLoader\n",
    "    * Build Model Architecture\n",
    "    * Prepare Training/Optimization Loop\n",
    "    * Model Training and Evaluation\n",
    "    * Model Saving\n",
    "    * Model Inferencing\n",
    "    * Model Quantization and Conversion\n",
    "\n",
    "* Reference: [here](https://pytorch.org/tutorials/beginner/basics/intro.html)"
   ]
  },
  {
   "cell_type": "code",
   "execution_count": 25,
   "metadata": {},
   "outputs": [],
   "source": [
    "# cell 25\n",
    "import torch\n",
    "# from torch.utils.data import Dataset\n",
    "from torch.utils.data import DataLoader\n",
    "from torchvision import datasets\n",
    "from torchvision.transforms import ToTensor, Lambda\n",
    "import matplotlib.pyplot as plt\n",
    "from tqdm import tqdm"
   ]
  },
  {
   "cell_type": "markdown",
   "metadata": {},
   "source": [
    "### Step 1: Loading Dataset\n",
    "\n",
    "* We will be loading the Fashion-MNIST dataset from TorchVision. \n",
    "* Fashion-MNIST is a dataset of Zalando’s article images consisting of 60,000 training examples and 10,000 test examples. \n",
    "* Each example comprises a 28×28 grayscale image and an associated label from one of 10 classes."
   ]
  },
  {
   "cell_type": "code",
   "execution_count": 47,
   "metadata": {},
   "outputs": [],
   "source": [
    "# cell 26\n",
    "training_data = datasets.FashionMNIST(\n",
    "    root=\"data\",\n",
    "    train=True,\n",
    "    download=True,\n",
    "    transform=ToTensor()\n",
    ")\n",
    "\n",
    "test_data = datasets.FashionMNIST(\n",
    "    root=\"data\",\n",
    "    train=False,\n",
    "    download=True,\n",
    "    transform=ToTensor()\n",
    ")"
   ]
  },
  {
   "cell_type": "code",
   "execution_count": 48,
   "metadata": {},
   "outputs": [
    {
     "name": "stdout",
     "output_type": "stream",
     "text": [
      "Number of training samples: 60000\n",
      "Number of testing samples: 10000\n"
     ]
    }
   ],
   "source": [
    "# cell 27\n",
    "print(f\"Number of training samples: {len(training_data)}\")\n",
    "print(f\"Number of testing samples: {len(test_data)}\")"
   ]
  },
  {
   "cell_type": "code",
   "execution_count": 49,
   "metadata": {},
   "outputs": [
    {
     "name": "stdout",
     "output_type": "stream",
     "text": [
      "Image/label pair as each sample:  (tensor([[[0.0000, 0.0000, 0.0000, 0.0000, 0.0000, 0.0000, 0.0000, 0.0000,\n",
      "          0.0000, 0.0000, 0.0000, 0.0000, 0.0000, 0.0000, 0.0000, 0.0000,\n",
      "          0.0000, 0.0000, 0.0000, 0.0000, 0.0000, 0.0000, 0.0000, 0.0000,\n",
      "          0.0000, 0.0000, 0.0000, 0.0000],\n",
      "         [0.0000, 0.0000, 0.0000, 0.0000, 0.0000, 0.0000, 0.0000, 0.0000,\n",
      "          0.0000, 0.0000, 0.0000, 0.0000, 0.0000, 0.0000, 0.0000, 0.0000,\n",
      "          0.0000, 0.0000, 0.0000, 0.0000, 0.0000, 0.0000, 0.0000, 0.0000,\n",
      "          0.0000, 0.0000, 0.0000, 0.0000],\n",
      "         [0.0000, 0.0000, 0.0000, 0.0000, 0.0000, 0.0000, 0.0000, 0.0000,\n",
      "          0.0000, 0.0000, 0.0000, 0.0000, 0.0000, 0.0000, 0.0000, 0.0000,\n",
      "          0.0000, 0.0000, 0.0000, 0.0000, 0.0000, 0.0000, 0.0000, 0.0000,\n",
      "          0.0000, 0.0000, 0.0000, 0.0000],\n",
      "         [0.0000, 0.0000, 0.0000, 0.0000, 0.0000, 0.0000, 0.0000, 0.0000,\n",
      "          0.0000, 0.0000, 0.0000, 0.0000, 0.0039, 0.0000, 0.0000, 0.0510,\n",
      "          0.2863, 0.0000, 0.0000, 0.0039, 0.0157, 0.0000, 0.0000, 0.0000,\n",
      "          0.0000, 0.0039, 0.0039, 0.0000],\n",
      "         [0.0000, 0.0000, 0.0000, 0.0000, 0.0000, 0.0000, 0.0000, 0.0000,\n",
      "          0.0000, 0.0000, 0.0000, 0.0000, 0.0118, 0.0000, 0.1412, 0.5333,\n",
      "          0.4980, 0.2431, 0.2118, 0.0000, 0.0000, 0.0000, 0.0039, 0.0118,\n",
      "          0.0157, 0.0000, 0.0000, 0.0118],\n",
      "         [0.0000, 0.0000, 0.0000, 0.0000, 0.0000, 0.0000, 0.0000, 0.0000,\n",
      "          0.0000, 0.0000, 0.0000, 0.0000, 0.0235, 0.0000, 0.4000, 0.8000,\n",
      "          0.6902, 0.5255, 0.5647, 0.4824, 0.0902, 0.0000, 0.0000, 0.0000,\n",
      "          0.0000, 0.0471, 0.0392, 0.0000],\n",
      "         [0.0000, 0.0000, 0.0000, 0.0000, 0.0000, 0.0000, 0.0000, 0.0000,\n",
      "          0.0000, 0.0000, 0.0000, 0.0000, 0.0000, 0.0000, 0.6078, 0.9255,\n",
      "          0.8118, 0.6980, 0.4196, 0.6118, 0.6314, 0.4275, 0.2510, 0.0902,\n",
      "          0.3020, 0.5098, 0.2824, 0.0588],\n",
      "         [0.0000, 0.0000, 0.0000, 0.0000, 0.0000, 0.0000, 0.0000, 0.0000,\n",
      "          0.0000, 0.0000, 0.0000, 0.0039, 0.0000, 0.2706, 0.8118, 0.8745,\n",
      "          0.8549, 0.8471, 0.8471, 0.6392, 0.4980, 0.4745, 0.4784, 0.5725,\n",
      "          0.5529, 0.3451, 0.6745, 0.2588],\n",
      "         [0.0000, 0.0000, 0.0000, 0.0000, 0.0000, 0.0000, 0.0000, 0.0000,\n",
      "          0.0000, 0.0039, 0.0039, 0.0039, 0.0000, 0.7843, 0.9098, 0.9098,\n",
      "          0.9137, 0.8980, 0.8745, 0.8745, 0.8431, 0.8353, 0.6431, 0.4980,\n",
      "          0.4824, 0.7686, 0.8980, 0.0000],\n",
      "         [0.0000, 0.0000, 0.0000, 0.0000, 0.0000, 0.0000, 0.0000, 0.0000,\n",
      "          0.0000, 0.0000, 0.0000, 0.0000, 0.0000, 0.7176, 0.8824, 0.8471,\n",
      "          0.8745, 0.8941, 0.9216, 0.8902, 0.8784, 0.8706, 0.8784, 0.8667,\n",
      "          0.8745, 0.9608, 0.6784, 0.0000],\n",
      "         [0.0000, 0.0000, 0.0000, 0.0000, 0.0000, 0.0000, 0.0000, 0.0000,\n",
      "          0.0000, 0.0000, 0.0000, 0.0000, 0.0000, 0.7569, 0.8941, 0.8549,\n",
      "          0.8353, 0.7765, 0.7059, 0.8314, 0.8235, 0.8275, 0.8353, 0.8745,\n",
      "          0.8627, 0.9529, 0.7922, 0.0000],\n",
      "         [0.0000, 0.0000, 0.0000, 0.0000, 0.0000, 0.0000, 0.0000, 0.0000,\n",
      "          0.0000, 0.0039, 0.0118, 0.0000, 0.0471, 0.8588, 0.8627, 0.8314,\n",
      "          0.8549, 0.7529, 0.6627, 0.8902, 0.8157, 0.8549, 0.8784, 0.8314,\n",
      "          0.8863, 0.7725, 0.8196, 0.2039],\n",
      "         [0.0000, 0.0000, 0.0000, 0.0000, 0.0000, 0.0000, 0.0000, 0.0000,\n",
      "          0.0000, 0.0000, 0.0235, 0.0000, 0.3882, 0.9569, 0.8706, 0.8627,\n",
      "          0.8549, 0.7961, 0.7765, 0.8667, 0.8431, 0.8353, 0.8706, 0.8627,\n",
      "          0.9608, 0.4667, 0.6549, 0.2196],\n",
      "         [0.0000, 0.0000, 0.0000, 0.0000, 0.0000, 0.0000, 0.0000, 0.0000,\n",
      "          0.0000, 0.0157, 0.0000, 0.0000, 0.2157, 0.9255, 0.8941, 0.9020,\n",
      "          0.8941, 0.9412, 0.9098, 0.8353, 0.8549, 0.8745, 0.9176, 0.8510,\n",
      "          0.8510, 0.8196, 0.3608, 0.0000],\n",
      "         [0.0000, 0.0000, 0.0039, 0.0157, 0.0235, 0.0275, 0.0078, 0.0000,\n",
      "          0.0000, 0.0000, 0.0000, 0.0000, 0.9294, 0.8863, 0.8510, 0.8745,\n",
      "          0.8706, 0.8588, 0.8706, 0.8667, 0.8471, 0.8745, 0.8980, 0.8431,\n",
      "          0.8549, 1.0000, 0.3020, 0.0000],\n",
      "         [0.0000, 0.0118, 0.0000, 0.0000, 0.0000, 0.0000, 0.0000, 0.0000,\n",
      "          0.0000, 0.2431, 0.5686, 0.8000, 0.8941, 0.8118, 0.8353, 0.8667,\n",
      "          0.8549, 0.8157, 0.8275, 0.8549, 0.8784, 0.8745, 0.8588, 0.8431,\n",
      "          0.8784, 0.9569, 0.6235, 0.0000],\n",
      "         [0.0000, 0.0000, 0.0000, 0.0000, 0.0706, 0.1725, 0.3216, 0.4196,\n",
      "          0.7412, 0.8941, 0.8627, 0.8706, 0.8510, 0.8863, 0.7843, 0.8039,\n",
      "          0.8275, 0.9020, 0.8784, 0.9176, 0.6902, 0.7373, 0.9804, 0.9725,\n",
      "          0.9137, 0.9333, 0.8431, 0.0000],\n",
      "         [0.0000, 0.2235, 0.7333, 0.8157, 0.8784, 0.8667, 0.8784, 0.8157,\n",
      "          0.8000, 0.8392, 0.8157, 0.8196, 0.7843, 0.6235, 0.9608, 0.7569,\n",
      "          0.8078, 0.8745, 1.0000, 1.0000, 0.8667, 0.9176, 0.8667, 0.8275,\n",
      "          0.8627, 0.9098, 0.9647, 0.0000],\n",
      "         [0.0118, 0.7922, 0.8941, 0.8784, 0.8667, 0.8275, 0.8275, 0.8392,\n",
      "          0.8039, 0.8039, 0.8039, 0.8627, 0.9412, 0.3137, 0.5882, 1.0000,\n",
      "          0.8980, 0.8667, 0.7373, 0.6039, 0.7490, 0.8235, 0.8000, 0.8196,\n",
      "          0.8706, 0.8941, 0.8824, 0.0000],\n",
      "         [0.3843, 0.9137, 0.7765, 0.8235, 0.8706, 0.8980, 0.8980, 0.9176,\n",
      "          0.9765, 0.8627, 0.7608, 0.8431, 0.8510, 0.9451, 0.2549, 0.2863,\n",
      "          0.4157, 0.4588, 0.6588, 0.8588, 0.8667, 0.8431, 0.8510, 0.8745,\n",
      "          0.8745, 0.8784, 0.8980, 0.1137],\n",
      "         [0.2941, 0.8000, 0.8314, 0.8000, 0.7569, 0.8039, 0.8275, 0.8824,\n",
      "          0.8471, 0.7255, 0.7725, 0.8078, 0.7765, 0.8353, 0.9412, 0.7647,\n",
      "          0.8902, 0.9608, 0.9373, 0.8745, 0.8549, 0.8314, 0.8196, 0.8706,\n",
      "          0.8627, 0.8667, 0.9020, 0.2627],\n",
      "         [0.1882, 0.7961, 0.7176, 0.7608, 0.8353, 0.7725, 0.7255, 0.7451,\n",
      "          0.7608, 0.7529, 0.7922, 0.8392, 0.8588, 0.8667, 0.8627, 0.9255,\n",
      "          0.8824, 0.8471, 0.7804, 0.8078, 0.7294, 0.7098, 0.6941, 0.6745,\n",
      "          0.7098, 0.8039, 0.8078, 0.4510],\n",
      "         [0.0000, 0.4784, 0.8588, 0.7569, 0.7020, 0.6706, 0.7176, 0.7686,\n",
      "          0.8000, 0.8235, 0.8353, 0.8118, 0.8275, 0.8235, 0.7843, 0.7686,\n",
      "          0.7608, 0.7490, 0.7647, 0.7490, 0.7765, 0.7529, 0.6902, 0.6118,\n",
      "          0.6549, 0.6941, 0.8235, 0.3608],\n",
      "         [0.0000, 0.0000, 0.2902, 0.7412, 0.8314, 0.7490, 0.6863, 0.6745,\n",
      "          0.6863, 0.7098, 0.7255, 0.7373, 0.7412, 0.7373, 0.7569, 0.7765,\n",
      "          0.8000, 0.8196, 0.8235, 0.8235, 0.8275, 0.7373, 0.7373, 0.7608,\n",
      "          0.7529, 0.8471, 0.6667, 0.0000],\n",
      "         [0.0078, 0.0000, 0.0000, 0.0000, 0.2588, 0.7843, 0.8706, 0.9294,\n",
      "          0.9373, 0.9490, 0.9647, 0.9529, 0.9569, 0.8667, 0.8627, 0.7569,\n",
      "          0.7490, 0.7020, 0.7137, 0.7137, 0.7098, 0.6902, 0.6510, 0.6588,\n",
      "          0.3882, 0.2275, 0.0000, 0.0000],\n",
      "         [0.0000, 0.0000, 0.0000, 0.0000, 0.0000, 0.0000, 0.0000, 0.1569,\n",
      "          0.2392, 0.1725, 0.2824, 0.1608, 0.1373, 0.0000, 0.0000, 0.0000,\n",
      "          0.0000, 0.0000, 0.0000, 0.0000, 0.0000, 0.0000, 0.0000, 0.0000,\n",
      "          0.0000, 0.0000, 0.0000, 0.0000],\n",
      "         [0.0000, 0.0000, 0.0000, 0.0000, 0.0000, 0.0000, 0.0000, 0.0000,\n",
      "          0.0000, 0.0000, 0.0000, 0.0000, 0.0000, 0.0000, 0.0000, 0.0000,\n",
      "          0.0000, 0.0000, 0.0000, 0.0000, 0.0000, 0.0000, 0.0000, 0.0000,\n",
      "          0.0000, 0.0000, 0.0000, 0.0000],\n",
      "         [0.0000, 0.0000, 0.0000, 0.0000, 0.0000, 0.0000, 0.0000, 0.0000,\n",
      "          0.0000, 0.0000, 0.0000, 0.0000, 0.0000, 0.0000, 0.0000, 0.0000,\n",
      "          0.0000, 0.0000, 0.0000, 0.0000, 0.0000, 0.0000, 0.0000, 0.0000,\n",
      "          0.0000, 0.0000, 0.0000, 0.0000]]]), 9)\n"
     ]
    }
   ],
   "source": [
    "# cell 28\n",
    "image, label = training_data[0]\n",
    "print(\"Image/label pair as each sample: \", training_data[0])"
   ]
  },
  {
   "cell_type": "code",
   "execution_count": 50,
   "metadata": {},
   "outputs": [
    {
     "name": "stdout",
     "output_type": "stream",
     "text": [
      "Shape of each sample:  torch.Size([1, 28, 28])\n",
      "Label for 0th sample:  9\n"
     ]
    }
   ],
   "source": [
    "# cell 29\n",
    "print(\"Shape of each sample: \", training_data[0][0].shape)\n",
    "print(\"Label for 0th sample: \", training_data[0][1])"
   ]
  },
  {
   "cell_type": "code",
   "execution_count": 51,
   "metadata": {},
   "outputs": [],
   "source": [
    "# the output above is ([1, 28, 28])\n",
    "# 1 - grey image, 28, 28 - height and width of the image"
   ]
  },
  {
   "cell_type": "markdown",
   "metadata": {},
   "source": [
    "### Label Mapping"
   ]
  },
  {
   "cell_type": "code",
   "execution_count": 52,
   "metadata": {},
   "outputs": [],
   "source": [
    "# cell 30\n",
    "labels_map = {\n",
    "    0: \"T-Shirt\",\n",
    "    1: \"Trouser\",\n",
    "    2: \"Pullover\",\n",
    "    3: \"Dress\",\n",
    "    4: \"Coat\",\n",
    "    5: \"Sandal\",\n",
    "    6: \"Shirt\",\n",
    "    7: \"Sneaker\",\n",
    "    8: \"Bag\",\n",
    "    9: \"Ankle Boot\",\n",
    "}"
   ]
  },
  {
   "cell_type": "markdown",
   "metadata": {},
   "source": [
    "### Visualizing the dataset"
   ]
  },
  {
   "cell_type": "code",
   "execution_count": 53,
   "metadata": {},
   "outputs": [
    {
     "data": {
      "image/png": "[encoded data removed]",
      "text/plain": [
       "<Figure size 800x800 with 9 Axes>"
      ]
     },
     "metadata": {},
     "output_type": "display_data"
    }
   ],
   "source": [
    "# cell 31\n",
    "figure = plt.figure(figsize=(8, 8))\n",
    "cols, rows = 3, 3\n",
    "for i in range(1, cols * rows + 1):\n",
    "    sample_idx = torch.randint(len(training_data), size=(1,)).item()\n",
    "    img, label = training_data[sample_idx]\n",
    "    figure.add_subplot(rows, cols, i)\n",
    "    plt.title(labels_map[label])\n",
    "    plt.axis(\"off\")\n",
    "    plt.imshow(img.squeeze(), cmap=\"gray\")\n",
    "plt.show()"
   ]
  },
  {
   "cell_type": "markdown",
   "metadata": {},
   "source": [
    "### Step 2: Building Dataloader"
   ]
  },
  {
   "cell_type": "code",
   "execution_count": 54,
   "metadata": {},
   "outputs": [],
   "source": [
    "# cell 32\n",
    "train_dataloader = DataLoader(training_data, batch_size=64, shuffle=True)\n",
    "test_dataloader = DataLoader(test_data, batch_size=64, shuffle=True) #shuffle -- to make it random"
   ]
  },
  {
   "cell_type": "code",
   "execution_count": 55,
   "metadata": {},
   "outputs": [
    {
     "name": "stdout",
     "output_type": "stream",
     "text": [
      "Training batch shape: torch.Size([64, 1, 28, 28])\n",
      "Labels batch shape: torch.Size([64])\n"
     ]
    }
   ],
   "source": [
    "# cell 33\n",
    "train_features, train_labels = next(iter(train_dataloader))\n",
    "print(f\"Training batch shape: {train_features.size()}\")\n",
    "print(f\"Labels batch shape: {train_labels.size()}\")"
   ]
  },
  {
   "cell_type": "markdown",
   "metadata": {},
   "source": [
    "### Step 3: Build Model Architecture"
   ]
  },
  {
   "cell_type": "code",
   "execution_count": 56,
   "metadata": {},
   "outputs": [],
   "source": [
    "# cell 34\n",
    "# Your code here\n",
    "class NeuralNetwork(nn.Module):\n",
    "    def __init__(self):\n",
    "        super().__init__()\n",
    "        self.flatten = nn.Flatten()\n",
    "        self.linear_relu_stack = nn.Sequential(\n",
    "            nn.Linear(28*28, 512),\n",
    "            nn.ReLU(),\n",
    "            nn.Linear(512, 512),\n",
    "            nn.ReLU(),\n",
    "            nn.Linear(512, 512),\n",
    "        )\n",
    "\n",
    "    def forward(self, x):\n",
    "        x = self.flatten(x)\n",
    "        logits = self.linear_relu_stack(x)\n",
    "        return logits"
   ]
  },
  {
   "cell_type": "code",
   "execution_count": 57,
   "metadata": {},
   "outputs": [
    {
     "name": "stdout",
     "output_type": "stream",
     "text": [
      "Using cpu device\n"
     ]
    }
   ],
   "source": [
    "# cell 35\n",
    "device = (\"cuda\" if torch.cuda.is_available() else \"cpu\")\n",
    "print(f\"Using {device} device\")"
   ]
  },
  {
   "cell_type": "code",
   "execution_count": 58,
   "metadata": {},
   "outputs": [
    {
     "name": "stdout",
     "output_type": "stream",
     "text": [
      "NeuralNetwork(\n",
      "  (flatten): Flatten(start_dim=1, end_dim=-1)\n",
      "  (linear_relu_stack): Sequential(\n",
      "    (0): Linear(in_features=784, out_features=512, bias=True)\n",
      "    (1): ReLU()\n",
      "    (2): Linear(in_features=512, out_features=512, bias=True)\n",
      "    (3): ReLU()\n",
      "    (4): Linear(in_features=512, out_features=512, bias=True)\n",
      "  )\n",
      ")\n"
     ]
    }
   ],
   "source": [
    "# cell 36\n",
    "model = NeuralNetwork().to(device)\n",
    "print(model)"
   ]
  },
  {
   "cell_type": "markdown",
   "metadata": {},
   "source": [
    "### Step 4: Prepare Training/Optimization Loop"
   ]
  },
  {
   "cell_type": "code",
   "execution_count": 62,
   "metadata": {},
   "outputs": [],
   "source": [
    "# cell 37\n",
    "# Your code here\n",
    "\n",
    "def train(train_dataloader, test_dataloader, model, loss_fn, optimizer, epochs, device, val_interval=1):\n",
    "    train_loss_values = []\n",
    "    val_loss_values = []\n",
    "    val_accuracy_values = []\n",
    "    # Training loop\n",
    "    for epoch in range(epochs):\n",
    "        print(\"-\" * 10)\n",
    "        print(f\"epoch {epoch + 1}/{epochs}\")\n",
    "        model.train()   # set model on training mode\n",
    "        epoch_loss = 0\n",
    "        val_epoch_loss = 0\n",
    "        step = 0\n",
    "        correct_count = 0\n",
    "        for batch_data in tqdm(train_dataloader):\n",
    "            step += 1\n",
    "            inputs, labels = (\n",
    "                batch_data[0].to(device),\n",
    "                batch_data[1].to(device),\n",
    "            )\n",
    "            optimizer.zero_grad()\n",
    "            outputs = model(inputs)\n",
    "            loss = loss_fn(outputs, labels)   # Batch loss\n",
    "            loss.backward()\n",
    "            optimizer.step()\n",
    "            epoch_loss += loss.item()\n",
    "\n",
    "        epoch_loss /= step\n",
    "        train_loss_values.append(epoch_loss)\n",
    "        print(f\"Epoch {epoch + 1} average training loss: {epoch_loss:.4f}\")\n",
    "      \n",
    "        # Validation loop\n",
    "        if (epoch + 1) % val_interval == 0:\n",
    "            model.eval()    # Setting model in eval mode\n",
    "            with torch.no_grad():\n",
    "                val_step = 0\n",
    "                for val_data in test_dataloader:\n",
    "                    val_step += 1\n",
    "                    val_inputs, val_labels = (\n",
    "                      val_data[0].to(device),\n",
    "                      val_data[1].to(device),\n",
    "                    )\n",
    "                    outputs = model(val_inputs)\n",
    "                    loss = loss_fn(outputs, val_labels)   # Batch loss\n",
    "                    val_epoch_loss += loss.item()\n",
    "                    correct_count += (outputs.argmax(1) == val_labels).type(torch.float).sum().item()\n",
    "                    # print(correct_count)\n",
    "            val_epoch_loss /= val_step\n",
    "            accuracy = correct_count / len(test_dataloader.dataset)\n",
    "            val_loss_values.append(val_epoch_loss)\n",
    "            val_accuracy_values.append(accuracy)\n",
    "            print(f\"Epoch {epoch + 1} average validation loss: {val_epoch_loss:.4f}\")\n",
    "            print(f\"Validation Accuracy: {(100 * accuracy):>0.1f}% \\n\")\n",
    "            \n",
    "    return train_loss_values, val_loss_values, val_accuracy_values\n",
    "                  "
   ]
  },
  {
   "cell_type": "markdown",
   "metadata": {},
   "source": [
    "### Step 5: Model Training and Evaluation"
   ]
  },
  {
   "cell_type": "markdown",
   "metadata": {},
   "source": [
    "Setting Hyperparameters"
   ]
  },
  {
   "cell_type": "code",
   "execution_count": 63,
   "metadata": {},
   "outputs": [],
   "source": [
    "# cell 38\n",
    "learning_rate = 1e-3\n",
    "batch_size = 64\n",
    "epochs = 5"
   ]
  },
  {
   "cell_type": "code",
   "execution_count": 64,
   "metadata": {},
   "outputs": [
    {
     "name": "stdout",
     "output_type": "stream",
     "text": [
      "----------\n",
      "epoch 1/5\n"
     ]
    },
    {
     "name": "stderr",
     "output_type": "stream",
     "text": [
      "100%|████████████████████████████████████████| 938/938 [00:06<00:00, 154.50it/s]\n"
     ]
    },
    {
     "name": "stdout",
     "output_type": "stream",
     "text": [
      "Epoch 1 average training loss: 2.1344\n",
      "Epoch 1 average validation loss: 1.8452\n",
      "Validation Accuracy: 56.7% \n",
      "\n",
      "----------\n",
      "epoch 2/5\n"
     ]
    },
    {
     "name": "stderr",
     "output_type": "stream",
     "text": [
      "100%|████████████████████████████████████████| 938/938 [00:05<00:00, 175.94it/s]\n"
     ]
    },
    {
     "name": "stdout",
     "output_type": "stream",
     "text": [
      "Epoch 2 average training loss: 1.6205\n",
      "Epoch 2 average validation loss: 1.4335\n",
      "Validation Accuracy: 61.0% \n",
      "\n",
      "----------\n",
      "epoch 3/5\n"
     ]
    },
    {
     "name": "stderr",
     "output_type": "stream",
     "text": [
      "100%|████████████████████████████████████████| 938/938 [00:05<00:00, 159.97it/s]\n"
     ]
    },
    {
     "name": "stdout",
     "output_type": "stream",
     "text": [
      "Epoch 3 average training loss: 1.3022\n",
      "Epoch 3 average validation loss: 1.2011\n",
      "Validation Accuracy: 62.9% \n",
      "\n",
      "----------\n",
      "epoch 4/5\n"
     ]
    },
    {
     "name": "stderr",
     "output_type": "stream",
     "text": [
      "100%|████████████████████████████████████████| 938/938 [00:07<00:00, 130.29it/s]\n"
     ]
    },
    {
     "name": "stdout",
     "output_type": "stream",
     "text": [
      "Epoch 4 average training loss: 1.1195\n",
      "Epoch 4 average validation loss: 1.0608\n",
      "Validation Accuracy: 64.2% \n",
      "\n",
      "----------\n",
      "epoch 5/5\n"
     ]
    },
    {
     "name": "stderr",
     "output_type": "stream",
     "text": [
      "100%|████████████████████████████████████████| 938/938 [00:05<00:00, 158.00it/s]\n"
     ]
    },
    {
     "name": "stdout",
     "output_type": "stream",
     "text": [
      "Epoch 5 average training loss: 1.0035\n",
      "Epoch 5 average validation loss: 0.9742\n",
      "Validation Accuracy: 65.7% \n",
      "\n"
     ]
    }
   ],
   "source": [
    "# cell 39\n",
    "loss_fn = nn.CrossEntropyLoss()\n",
    "optimizer = torch.optim.SGD(model.parameters(), lr=learning_rate)\n",
    "train_loss_values, val_loss_values, val_accuracy_values = train(train_dataloader, test_dataloader, model, loss_fn, optimizer, epochs, device, val_interval=1)"
   ]
  },
  {
   "cell_type": "code",
   "execution_count": 65,
   "metadata": {},
   "outputs": [
    {
     "data": {
      "image/png": "[encoded data removed]",
      "text/plain": [
       "<Figure size 1500x500 with 2 Axes>"
      ]
     },
     "metadata": {},
     "output_type": "display_data"
    }
   ],
   "source": [
    "# cell 40\n",
    "val_interval = 1\n",
    "plt.figure(figsize=(15, 5))\n",
    "\n",
    "# Subplot for training and validation loss\n",
    "plt.subplot(1, 2, 1)\n",
    "plt.title(\"Loss Plot\")\n",
    "train_num_epoch = [i + 1 for i in range(len(train_loss_values))]\n",
    "val_num_epoch = [val_interval * (i + 1) for i in range(len(val_loss_values))]\n",
    "plt.plot(val_num_epoch, val_loss_values)\n",
    "plt.plot(train_num_epoch, train_loss_values)\n",
    "plt.legend([\"Validation Loss\", \"Training Loss\"])\n",
    "plt.xlabel(\"#Epochs\")\n",
    "plt.ylabel(\"Average Epoch Loss\")\n",
    "\n",
    "# Subplot for validation accuracy\n",
    "plt.subplot(1, 2, 2)\n",
    "val_num_epoch = [val_interval * (i + 1) for i in range(len(val_accuracy_values))]\n",
    "plt.plot(val_num_epoch, val_accuracy_values)\n",
    "plt.title(\"Accuracy plot\")\n",
    "plt.xlabel(\"#Epochs\")\n",
    "plt.ylabel(\"Accuracy\")\n",
    "plt.show()"
   ]
  },
  {
   "cell_type": "markdown",
   "metadata": {},
   "source": [
    "### Step 6: Model Saving"
   ]
  },
  {
   "cell_type": "markdown",
   "metadata": {},
   "source": [
    "#### Saving the entire model\n",
    "* When we save the model with this approach, we could easily load the model without needing its architecture.\n",
    "* But we could not resume training."
   ]
  },
  {
   "cell_type": "code",
   "execution_count": 66,
   "metadata": {},
   "outputs": [],
   "source": [
    "# cell 41\n",
    "torch.save(model, \"model.pth\")"
   ]
  },
  {
   "cell_type": "markdown",
   "metadata": {},
   "source": [
    "#### Loading the saved model"
   ]
  },
  {
   "cell_type": "code",
   "execution_count": 72,
   "metadata": {},
   "outputs": [],
   "source": [
    "# cell 42\n",
    "# Loading the saved model\n",
    "model = torch.load(\"model.pth\")"
   ]
  },
  {
   "cell_type": "markdown",
   "metadata": {},
   "source": [
    "#### Saving model state and relevant information\n",
    "* When we save the model with this approach, we need to load the model architecture first and then only we could load the weights.\n",
    "* We could resume training from the saved checkpoint."
   ]
  },
  {
   "cell_type": "code",
   "execution_count": 73,
   "metadata": {},
   "outputs": [],
   "source": [
    "# cell 43\n",
    "checkpoint = {\n",
    "    \"model_state\": model.state_dict(),\n",
    "    \"optimizer_state\": optimizer.state_dict(),\n",
    "    \"train_loss\": train_loss_values,\n",
    "    \"val_loss\": val_loss_values,\n",
    "    \"val_accuracy\": val_accuracy_values\n",
    "}\n",
    "torch.save(checkpoint, 'checkpoint.pth.tar')"
   ]
  },
  {
   "cell_type": "markdown",
   "metadata": {},
   "source": [
    "#### Loading the saved checkpoint"
   ]
  },
  {
   "cell_type": "code",
   "execution_count": 75,
   "metadata": {},
   "outputs": [],
   "source": [
    "# cell 44\n",
    "# Loading the checkpoint\n",
    "checkpoint = torch.load(\"checkpoint.pth.tar\")\n",
    "\n",
    "# First load the model architecture i.e. instantiate the model class and optimizer\n",
    "model = NeuralNetwork()\n",
    "optimizer = torch.optim.SGD(model.parameters(), lr=learning_rate)\n",
    "\n",
    "# Then load the model weights and optimizer state\n",
    "model.load_state_dict(checkpoint['model_state'])\n",
    "optimizer.load_state_dict(checkpoint['optimizer_state'])\n",
    "\n",
    "# We can use these values for plotting\n",
    "train_loss_values = checkpoint['train_loss']\n",
    "val_loss_values = checkpoint['val_loss']\n",
    "val_accuracy_values = checkpoint['val_accuracy']"
   ]
  },
  {
   "cell_type": "markdown",
   "metadata": {},
   "source": [
    "### Step 7: Model Inferencing"
   ]
  },
  {
   "cell_type": "code",
   "execution_count": 76,
   "metadata": {},
   "outputs": [
    {
     "name": "stdout",
     "output_type": "stream",
     "text": [
      "Image shape:  torch.Size([1, 28, 28])\n",
      "Image shape after unsqueeze:  torch.Size([1, 1, 28, 28])\n",
      "Predicted: 1\n",
      "Target: 9\n"
     ]
    }
   ],
   "source": [
    "# cell 45\n",
    "image, label = test_data[0]\n",
    "print(\"Image shape: \", image.shape)\n",
    "# Adding batch dimension\n",
    "image_reshaped = image.unsqueeze(0).to(device) \n",
    "model = model.to(device)\n",
    "print(\"Image shape after unsqueeze: \", image_reshaped.shape)\n",
    "prediction = model(image_reshaped)\n",
    "prediction_index = predicted.argmax().item()\n",
    "print(f'Predicted: {prediction_index}')\n",
    "print(f'Target: {label}')"
   ]
  },
  {
   "cell_type": "markdown",
   "metadata": {},
   "source": [
    "Visualizing the Image"
   ]
  },
  {
   "cell_type": "code",
   "execution_count": 77,
   "metadata": {},
   "outputs": [
    {
     "data": {
      "image/png": "[encoded data removed]",
      "text/plain": [
       "<Figure size 500x500 with 1 Axes>"
      ]
     },
     "metadata": {},
     "output_type": "display_data"
    }
   ],
   "source": [
    "# cell 46\n",
    "figure = plt.figure(figsize=(5, 5))\n",
    "plt.title(f\"Label: {labels_map[label]} \\n Predicted: {labels_map[prediction_index]}\")\n",
    "plt.imshow(image.squeeze(), cmap=\"gray\")\n",
    "plt.xlabel(labels_map[prediction_index])\n",
    "plt.axis(\"off\")\n",
    "plt.show()"
   ]
  },
  {
   "cell_type": "markdown",
   "metadata": {},
   "source": [
    "### Step 8: Model Quantization and Conversion\n",
    "* Model quantization refers to techniques for performing computations and storing tensors at lower bitwidths (usually int8) than floating point precision.\n",
    "* Quantization enables:\n",
    "    * 4x reduction in model size;\n",
    "    * 2-4x reduction in memory bandwidth;\n",
    "    * 2-4x faster inference due to savings in memory bandwidth and faster compute with int8 arithmetic (the exact speed up varies depending on the hardware, the runtime, and the model).\n",
    "* In model conversion, we will convert the native pytorch model to ONNX(Open Neural Network Exchange) format which is open standard format for representing machine learning models"
   ]
  },
  {
   "cell_type": "markdown",
   "metadata": {},
   "source": [
    "Quantizating model to int8 Precision"
   ]
  },
  {
   "cell_type": "code",
   "execution_count": 81,
   "metadata": {},
   "outputs": [
    {
     "name": "stdout",
     "output_type": "stream",
     "text": [
      "NeuralNetwork(\n",
      "  (flatten): Flatten(start_dim=1, end_dim=-1)\n",
      "  (linear_relu_stack): Sequential(\n",
      "    (0): DynamicQuantizedLinear(in_features=784, out_features=512, dtype=torch.qint8, qscheme=torch.per_tensor_affine)\n",
      "    (1): ReLU()\n",
      "    (2): DynamicQuantizedLinear(in_features=512, out_features=512, dtype=torch.qint8, qscheme=torch.per_tensor_affine)\n",
      "    (3): ReLU()\n",
      "    (4): DynamicQuantizedLinear(in_features=512, out_features=512, dtype=torch.qint8, qscheme=torch.per_tensor_affine)\n",
      "  )\n",
      ")\n"
     ]
    }
   ],
   "source": [
    "# cell 47\n",
    "# Your Code Here\n",
    "#load the model with architecture\n",
    "model = NeuralNetwork()\n",
    "model.load_state_dict(checkpoint['model_state']) #also load this\n",
    "\n",
    "quantized_model = torch.quantization.quantize_dynamic(model, {torch.nn.Linear}, dtype=torch.qint8)\n",
    "print(quantized_model)"
   ]
  },
  {
   "cell_type": "code",
   "execution_count": 82,
   "metadata": {},
   "outputs": [],
   "source": [
    "# cell 48\n",
    "# Savimg quantized model\n",
    "torch.save(quantized_model, \"quantized_model.pth\")"
   ]
  },
  {
   "cell_type": "markdown",
   "metadata": {},
   "source": [
    "ONNX Conversion"
   ]
  },
  {
   "cell_type": "code",
   "execution_count": 83,
   "metadata": {},
   "outputs": [
    {
     "name": "stdout",
     "output_type": "stream",
     "text": [
      "Collecting onnxruntime\n",
      "  Downloading onnxruntime-1.18.0-cp312-cp312-manylinux_2_27_x86_64.manylinux_2_28_x86_64.whl.metadata (4.3 kB)\n",
      "Collecting coloredlogs (from onnxruntime)\n",
      "  Downloading coloredlogs-15.0.1-py2.py3-none-any.whl.metadata (12 kB)\n",
      "Collecting flatbuffers (from onnxruntime)\n",
      "  Downloading flatbuffers-24.3.25-py2.py3-none-any.whl.metadata (850 bytes)\n",
      "Requirement already satisfied: numpy>=1.26.0 in /home/ayusao/virtual/lib/python3.12/site-packages (from onnxruntime) (1.26.4)\n",
      "Requirement already satisfied: packaging in /home/ayusao/virtual/lib/python3.12/site-packages (from onnxruntime) (24.1)\n",
      "Collecting protobuf (from onnxruntime)\n",
      "  Downloading protobuf-5.27.2-cp38-abi3-manylinux2014_x86_64.whl.metadata (592 bytes)\n",
      "Requirement already satisfied: sympy in /home/ayusao/virtual/lib/python3.12/site-packages (from onnxruntime) (1.12.1)\n",
      "Collecting humanfriendly>=9.1 (from coloredlogs->onnxruntime)\n",
      "  Downloading humanfriendly-10.0-py2.py3-none-any.whl.metadata (9.2 kB)\n",
      "Requirement already satisfied: mpmath<1.4.0,>=1.1.0 in /home/ayusao/virtual/lib/python3.12/site-packages (from sympy->onnxruntime) (1.3.0)\n",
      "Downloading onnxruntime-1.18.0-cp312-cp312-manylinux_2_27_x86_64.manylinux_2_28_x86_64.whl (6.8 MB)\n",
      "\u001b[2K   \u001b[38;2;114;156;31m━━━━━━━━━━━━━━━━━━━━━━━━━━━━━━━━━━━━━━━━\u001b[0m \u001b[32m6.8/6.8 MB\u001b[0m \u001b[31m8.0 MB/s\u001b[0m eta \u001b[36m0:00:00\u001b[0mm eta \u001b[36m0:00:01\u001b[0m0:01\u001b[0m:01\u001b[0m\n",
      "\u001b[?25hDownloading coloredlogs-15.0.1-py2.py3-none-any.whl (46 kB)\n",
      "\u001b[2K   \u001b[38;2;114;156;31m━━━━━━━━━━━━━━━━━━━━━━━━━━━━━━━━━━━━━━━━\u001b[0m \u001b[32m46.0/46.0 kB\u001b[0m \u001b[31m2.4 MB/s\u001b[0m eta \u001b[36m0:00:00\u001b[0m\n",
      "\u001b[?25hDownloading flatbuffers-24.3.25-py2.py3-none-any.whl (26 kB)\n",
      "Downloading protobuf-5.27.2-cp38-abi3-manylinux2014_x86_64.whl (309 kB)\n",
      "\u001b[2K   \u001b[38;2;114;156;31m━━━━━━━━━━━━━━━━━━━━━━━━━━━━━━━━━━━━━━━━\u001b[0m \u001b[32m309.3/309.3 kB\u001b[0m \u001b[31m3.9 MB/s\u001b[0m eta \u001b[36m0:00:00\u001b[0mm eta \u001b[36m0:00:01\u001b[0m[36m0:00:01\u001b[0m\n",
      "\u001b[?25hDownloading humanfriendly-10.0-py2.py3-none-any.whl (86 kB)\n",
      "\u001b[2K   \u001b[38;2;114;156;31m━━━━━━━━━━━━━━━━━━━━━━━━━━━━━━━━━━━━━━━━\u001b[0m \u001b[32m86.8/86.8 kB\u001b[0m \u001b[31m4.0 MB/s\u001b[0m eta \u001b[36m0:00:00\u001b[0m\n",
      "\u001b[?25hInstalling collected packages: flatbuffers, protobuf, humanfriendly, coloredlogs, onnxruntime\n",
      "Successfully installed coloredlogs-15.0.1 flatbuffers-24.3.25 humanfriendly-10.0 onnxruntime-1.18.0 protobuf-5.27.2\n"
     ]
    }
   ],
   "source": [
    "# cell 49\n",
    "# Install the dependencies for model conversion\n",
    "!pip install onnxruntime"
   ]
  },
  {
   "cell_type": "code",
   "execution_count": 84,
   "metadata": {},
   "outputs": [
    {
     "ename": "OnnxExporterError",
     "evalue": "Module onnx is not installed!",
     "output_type": "error",
     "traceback": [
      "\u001b[0;31m---------------------------------------------------------------------------\u001b[0m",
      "\u001b[0;31mModuleNotFoundError\u001b[0m                       Traceback (most recent call last)",
      "File \u001b[0;32m~/virtual/lib/python3.12/site-packages/torch/onnx/_internal/onnx_proto_utils.py:219\u001b[0m, in \u001b[0;36m_add_onnxscript_fn\u001b[0;34m(model_bytes, custom_opsets)\u001b[0m\n\u001b[1;32m    218\u001b[0m \u001b[38;5;28;01mtry\u001b[39;00m:\n\u001b[0;32m--> 219\u001b[0m     \u001b[38;5;28;01mimport\u001b[39;00m \u001b[38;5;21;01monnx\u001b[39;00m\n\u001b[1;32m    220\u001b[0m \u001b[38;5;28;01mexcept\u001b[39;00m \u001b[38;5;167;01mImportError\u001b[39;00m \u001b[38;5;28;01mas\u001b[39;00m e:\n",
      "\u001b[0;31mModuleNotFoundError\u001b[0m: No module named 'onnx'",
      "\nThe above exception was the direct cause of the following exception:\n",
      "\u001b[0;31mOnnxExporterError\u001b[0m                         Traceback (most recent call last)",
      "Cell \u001b[0;32mIn[84], line 4\u001b[0m\n\u001b[1;32m      1\u001b[0m \u001b[38;5;66;03m# cell 50\u001b[39;00m\n\u001b[1;32m      2\u001b[0m \u001b[38;5;66;03m# loaded_model = torch.load(\"quantized_model.pth\")\u001b[39;00m\n\u001b[1;32m      3\u001b[0m dummy_input \u001b[38;5;241m=\u001b[39m torch\u001b[38;5;241m.\u001b[39mrandn(\u001b[38;5;241m1\u001b[39m, \u001b[38;5;241m1\u001b[39m, \u001b[38;5;241m28\u001b[39m, \u001b[38;5;241m28\u001b[39m)\u001b[38;5;241m.\u001b[39mto(device)\n\u001b[0;32m----> 4\u001b[0m \u001b[43mtorch\u001b[49m\u001b[38;5;241;43m.\u001b[39;49m\u001b[43monnx\u001b[49m\u001b[38;5;241;43m.\u001b[39;49m\u001b[43mexport\u001b[49m\u001b[43m(\u001b[49m\u001b[43mmodel\u001b[49m\u001b[38;5;241;43m.\u001b[39;49m\u001b[43mto\u001b[49m\u001b[43m(\u001b[49m\u001b[43mdevice\u001b[49m\u001b[43m)\u001b[49m\u001b[43m,\u001b[49m\u001b[43m \u001b[49m\u001b[43mdummy_input\u001b[49m\u001b[43m,\u001b[49m\u001b[43m \u001b[49m\u001b[38;5;124;43m\"\u001b[39;49m\u001b[38;5;124;43mquantized_model.onnx\u001b[39;49m\u001b[38;5;124;43m\"\u001b[39;49m\u001b[43m)\u001b[49m  \n",
      "File \u001b[0;32m~/virtual/lib/python3.12/site-packages/torch/onnx/utils.py:516\u001b[0m, in \u001b[0;36mexport\u001b[0;34m(model, args, f, export_params, verbose, training, input_names, output_names, operator_export_type, opset_version, do_constant_folding, dynamic_axes, keep_initializers_as_inputs, custom_opsets, export_modules_as_functions, autograd_inlining)\u001b[0m\n\u001b[1;32m    189\u001b[0m \u001b[38;5;129m@_beartype\u001b[39m\u001b[38;5;241m.\u001b[39mbeartype\n\u001b[1;32m    190\u001b[0m \u001b[38;5;28;01mdef\u001b[39;00m \u001b[38;5;21mexport\u001b[39m(\n\u001b[1;32m    191\u001b[0m     model: Union[torch\u001b[38;5;241m.\u001b[39mnn\u001b[38;5;241m.\u001b[39mModule, torch\u001b[38;5;241m.\u001b[39mjit\u001b[38;5;241m.\u001b[39mScriptModule, torch\u001b[38;5;241m.\u001b[39mjit\u001b[38;5;241m.\u001b[39mScriptFunction],\n\u001b[0;32m   (...)\u001b[0m\n\u001b[1;32m    208\u001b[0m     autograd_inlining: Optional[\u001b[38;5;28mbool\u001b[39m] \u001b[38;5;241m=\u001b[39m \u001b[38;5;28;01mTrue\u001b[39;00m,\n\u001b[1;32m    209\u001b[0m ) \u001b[38;5;241m-\u001b[39m\u001b[38;5;241m>\u001b[39m \u001b[38;5;28;01mNone\u001b[39;00m:\n\u001b[1;32m    210\u001b[0m \u001b[38;5;250m    \u001b[39m\u001b[38;5;124mr\u001b[39m\u001b[38;5;124;03m\"\"\"Exports a model into ONNX format.\u001b[39;00m\n\u001b[1;32m    211\u001b[0m \n\u001b[1;32m    212\u001b[0m \u001b[38;5;124;03m    If ``model`` is not a :class:`torch.jit.ScriptModule` nor a\u001b[39;00m\n\u001b[0;32m   (...)\u001b[0m\n\u001b[1;32m    513\u001b[0m \u001b[38;5;124;03m            All errors are subclasses of :class:`errors.OnnxExporterError`.\u001b[39;00m\n\u001b[1;32m    514\u001b[0m \u001b[38;5;124;03m    \"\"\"\u001b[39;00m\n\u001b[0;32m--> 516\u001b[0m     \u001b[43m_export\u001b[49m\u001b[43m(\u001b[49m\n\u001b[1;32m    517\u001b[0m \u001b[43m        \u001b[49m\u001b[43mmodel\u001b[49m\u001b[43m,\u001b[49m\n\u001b[1;32m    518\u001b[0m \u001b[43m        \u001b[49m\u001b[43margs\u001b[49m\u001b[43m,\u001b[49m\n\u001b[1;32m    519\u001b[0m \u001b[43m        \u001b[49m\u001b[43mf\u001b[49m\u001b[43m,\u001b[49m\n\u001b[1;32m    520\u001b[0m \u001b[43m        \u001b[49m\u001b[43mexport_params\u001b[49m\u001b[43m,\u001b[49m\n\u001b[1;32m    521\u001b[0m \u001b[43m        \u001b[49m\u001b[43mverbose\u001b[49m\u001b[43m,\u001b[49m\n\u001b[1;32m    522\u001b[0m \u001b[43m        \u001b[49m\u001b[43mtraining\u001b[49m\u001b[43m,\u001b[49m\n\u001b[1;32m    523\u001b[0m \u001b[43m        \u001b[49m\u001b[43minput_names\u001b[49m\u001b[43m,\u001b[49m\n\u001b[1;32m    524\u001b[0m \u001b[43m        \u001b[49m\u001b[43moutput_names\u001b[49m\u001b[43m,\u001b[49m\n\u001b[1;32m    525\u001b[0m \u001b[43m        \u001b[49m\u001b[43moperator_export_type\u001b[49m\u001b[38;5;241;43m=\u001b[39;49m\u001b[43moperator_export_type\u001b[49m\u001b[43m,\u001b[49m\n\u001b[1;32m    526\u001b[0m \u001b[43m        \u001b[49m\u001b[43mopset_version\u001b[49m\u001b[38;5;241;43m=\u001b[39;49m\u001b[43mopset_version\u001b[49m\u001b[43m,\u001b[49m\n\u001b[1;32m    527\u001b[0m \u001b[43m        \u001b[49m\u001b[43mdo_constant_folding\u001b[49m\u001b[38;5;241;43m=\u001b[39;49m\u001b[43mdo_constant_folding\u001b[49m\u001b[43m,\u001b[49m\n\u001b[1;32m    528\u001b[0m \u001b[43m        \u001b[49m\u001b[43mdynamic_axes\u001b[49m\u001b[38;5;241;43m=\u001b[39;49m\u001b[43mdynamic_axes\u001b[49m\u001b[43m,\u001b[49m\n\u001b[1;32m    529\u001b[0m \u001b[43m        \u001b[49m\u001b[43mkeep_initializers_as_inputs\u001b[49m\u001b[38;5;241;43m=\u001b[39;49m\u001b[43mkeep_initializers_as_inputs\u001b[49m\u001b[43m,\u001b[49m\n\u001b[1;32m    530\u001b[0m \u001b[43m        \u001b[49m\u001b[43mcustom_opsets\u001b[49m\u001b[38;5;241;43m=\u001b[39;49m\u001b[43mcustom_opsets\u001b[49m\u001b[43m,\u001b[49m\n\u001b[1;32m    531\u001b[0m \u001b[43m        \u001b[49m\u001b[43mexport_modules_as_functions\u001b[49m\u001b[38;5;241;43m=\u001b[39;49m\u001b[43mexport_modules_as_functions\u001b[49m\u001b[43m,\u001b[49m\n\u001b[1;32m    532\u001b[0m \u001b[43m        \u001b[49m\u001b[43mautograd_inlining\u001b[49m\u001b[38;5;241;43m=\u001b[39;49m\u001b[43mautograd_inlining\u001b[49m\u001b[43m,\u001b[49m\n\u001b[1;32m    533\u001b[0m \u001b[43m    \u001b[49m\u001b[43m)\u001b[49m\n",
      "File \u001b[0;32m~/virtual/lib/python3.12/site-packages/torch/onnx/utils.py:1686\u001b[0m, in \u001b[0;36m_export\u001b[0;34m(model, args, f, export_params, verbose, training, input_names, output_names, operator_export_type, export_type, opset_version, do_constant_folding, dynamic_axes, keep_initializers_as_inputs, fixed_batch_size, custom_opsets, add_node_names, onnx_shape_inference, export_modules_as_functions, autograd_inlining)\u001b[0m\n\u001b[1;32m   1667\u001b[0m     (\n\u001b[1;32m   1668\u001b[0m         proto,\n\u001b[1;32m   1669\u001b[0m         export_map,\n\u001b[0;32m   (...)\u001b[0m\n\u001b[1;32m   1683\u001b[0m         node_attr_to_name,\n\u001b[1;32m   1684\u001b[0m     )\n\u001b[1;32m   1685\u001b[0m \u001b[38;5;66;03m# insert function_proto into model_proto.\u001b[39;00m\n\u001b[0;32m-> 1686\u001b[0m proto \u001b[38;5;241m=\u001b[39m \u001b[43monnx_proto_utils\u001b[49m\u001b[38;5;241;43m.\u001b[39;49m\u001b[43m_add_onnxscript_fn\u001b[49m\u001b[43m(\u001b[49m\n\u001b[1;32m   1687\u001b[0m \u001b[43m    \u001b[49m\u001b[43mproto\u001b[49m\u001b[43m,\u001b[49m\n\u001b[1;32m   1688\u001b[0m \u001b[43m    \u001b[49m\u001b[43mcustom_opsets\u001b[49m\u001b[43m,\u001b[49m\n\u001b[1;32m   1689\u001b[0m \u001b[43m\u001b[49m\u001b[43m)\u001b[49m\n\u001b[1;32m   1690\u001b[0m \u001b[38;5;28;01mif\u001b[39;00m verbose:\n\u001b[1;32m   1691\u001b[0m     torch\u001b[38;5;241m.\u001b[39monnx\u001b[38;5;241m.\u001b[39mlog(\u001b[38;5;124m\"\u001b[39m\u001b[38;5;124mExported graph: \u001b[39m\u001b[38;5;124m\"\u001b[39m, graph)\n",
      "File \u001b[0;32m~/virtual/lib/python3.12/site-packages/torch/onnx/_internal/onnx_proto_utils.py:221\u001b[0m, in \u001b[0;36m_add_onnxscript_fn\u001b[0;34m(model_bytes, custom_opsets)\u001b[0m\n\u001b[1;32m    219\u001b[0m     \u001b[38;5;28;01mimport\u001b[39;00m \u001b[38;5;21;01monnx\u001b[39;00m\n\u001b[1;32m    220\u001b[0m \u001b[38;5;28;01mexcept\u001b[39;00m \u001b[38;5;167;01mImportError\u001b[39;00m \u001b[38;5;28;01mas\u001b[39;00m e:\n\u001b[0;32m--> 221\u001b[0m     \u001b[38;5;28;01mraise\u001b[39;00m errors\u001b[38;5;241m.\u001b[39mOnnxExporterError(\u001b[38;5;124m\"\u001b[39m\u001b[38;5;124mModule onnx is not installed!\u001b[39m\u001b[38;5;124m\"\u001b[39m) \u001b[38;5;28;01mfrom\u001b[39;00m \u001b[38;5;21;01me\u001b[39;00m\n\u001b[1;32m    223\u001b[0m \u001b[38;5;66;03m# For > 2GB model, onnx.load_fromstring would fail. However, because\u001b[39;00m\n\u001b[1;32m    224\u001b[0m \u001b[38;5;66;03m# in _export_onnx, the tensors should be saved separately if the proto\u001b[39;00m\n\u001b[1;32m    225\u001b[0m \u001b[38;5;66;03m# size > 2GB, and if it for some reason did not, the model would fail on\u001b[39;00m\n\u001b[1;32m    226\u001b[0m \u001b[38;5;66;03m# serialization anyway in terms of the protobuf limitation. So we don't\u001b[39;00m\n\u001b[1;32m    227\u001b[0m \u001b[38;5;66;03m# need to worry about > 2GB model getting here.\u001b[39;00m\n\u001b[1;32m    228\u001b[0m model_proto \u001b[38;5;241m=\u001b[39m onnx\u001b[38;5;241m.\u001b[39mload_model_from_string(model_bytes)  \u001b[38;5;66;03m# type: ignore[attr-defined]\u001b[39;00m\n",
      "\u001b[0;31mOnnxExporterError\u001b[0m: Module onnx is not installed!"
     ]
    }
   ],
   "source": [
    "# cell 50\n",
    "# loaded_model = torch.load(\"quantized_model.pth\")\n",
    "dummy_input = torch.randn(1, 1, 28, 28).to(device)\n",
    "torch.onnx.export(model.to(device), dummy_input, \"quantized_model.onnx\")  "
   ]
  },
  {
   "cell_type": "code",
   "execution_count": null,
   "metadata": {},
   "outputs": [],
   "source": [
    "# cell 51\n",
    "import onnxruntime as ort\n",
    "\n",
    "EP_list = ['CPUExecutionProvider']\n",
    "ort_sess = ort.InferenceSession(\"quantized_model.onnx\", providers=EP_list)\n",
    "input_name = ort_sess.get_inputs()[0].name\n",
    "\n",
    "image, label = test_data[0]\n",
    "input_data = np.expand_dims(image, axis=0)\n",
    "outputs = ort_sess.run(None, {input_name: input_data})[0]\n",
    "prediction_index = outputs.argmax().item()\n",
    "print(\"Label: \", label)\n",
    "print(\"Predicted: \", prediction_index)"
   ]
  },
  {
   "cell_type": "markdown",
   "metadata": {},
   "source": [
    "## Assignment\n",
    "* Implement the MLP for FashionMNIST Dataset Using [Pytorch-Ignite](https://pytorch-ignite.ai/tutorials/beginner/01-getting-started/)"
   ]
  }
 ],
 "metadata": {
  "kernelspec": {
   "display_name": "virtual",
   "language": "python",
   "name": "virtual"
  },
  "language_info": {
   "codemirror_mode": {
    "name": "ipython",
    "version": 3
   },
   "file_extension": ".py",
   "mimetype": "text/x-python",
   "name": "python",
   "nbconvert_exporter": "python",
   "pygments_lexer": "ipython3",
   "version": "3.12.3"
  }
 },
 "nbformat": 4,
 "nbformat_minor": 2
}
